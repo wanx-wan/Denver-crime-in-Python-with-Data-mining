{
  "cells": [
    {
      "cell_type": "markdown",
      "metadata": {
        "id": "view-in-github",
        "colab_type": "text"
      },
      "source": [
        "<a href=\"https://colab.research.google.com/github/wanx-wan/Denver-crime-in-Python-with-Data-mining/blob/main/Denver-crime-in-Python-with-Data-mining.ipynb\" target=\"_parent\"><img src=\"https://colab.research.google.com/assets/colab-badge.svg\" alt=\"Open In Colab\"/></a>"
      ]
    },
    {
      "cell_type": "markdown",
      "metadata": {
        "id": "JxP6PMEhoWT4"
      },
      "source": [
        "###อธิบายชุดข้อมูล"
      ]
    },
    {
      "cell_type": "markdown",
      "metadata": {
        "id": "l0yXZkwFlAZ6"
      },
      "source": [
        "1.   incident_id\tเหตุการณ์\n",
        "2.   offense_id\tความผิด \n",
        "3.   OFFENSE_CODE\tรหัสความผิด\n",
        "4.   OFFENSE_CODE_EXTENSION\tส่วนขยายสำหรับรหัสความผิด\n",
        "5.   OFFENSE_TYPE_ID\tคำอธิบายความผิด\n",
        "6.   OFFENSE_CATEGORY_ID\tคำอธิบายทั่วไปของความผิด\n",
        "7.   FIRST_OCCURRENCE_DATE\tวันเกิดเหตุการณ์\n",
        "8.   LAST_OCCURRENCE_DATE\tวันสิ้นสุดเหตุการณ์\n",
        "9.   REPORTED_DATE\tวันที่รับรายงาน\n",
        "10.  INCIDENT_ADDRESS\tที่อยู่เหตุการณ์\n",
        "11.  GEO_X\tรหัสภูมิศาสตร์แกน x\n",
        "12.  GEO_Y\tรหัสภูมิศาสตร์แกน y\n",
        "13.  GEO_LON\tละติจูด\n",
        "14.  GEO_LAT\tลองจิจูด\n",
        "15.  DISTRICT_ID\tเขต\n",
        "16.  PRECINCT_ID\tเมือง\n",
        "17.  NEIGHBORHOOD_ID\tพื้นที่ใกล้เคียง\n",
        "18.  IS_CRIME\t1 คือความผิดทางอาญา 0 คือไม่ใช่\n",
        "19.  IS_TRAFFIC 1 คือความผิดทางจราจร 0 คือไม่ใช่\n",
        "\n"
      ]
    },
    {
      "cell_type": "markdown",
      "metadata": {
        "id": "5IYya_NXoEpF"
      },
      "source": [
        "\n",
        "\n",
        "1. OFFENSE_ID เป็นตัวระบุเฉพาะสำหรับความผิดแต่ละครั้ง มันถูกสร้างขึ้นโดยการต่อ (รวม) INCIDENT_ID, OFFENSE_CODE และ OFFENSE_CODE_EXTENSION โดยจะมีตัวระบุที่ไม่ซ้ำกันสำหรับความผิดแต่ละครั้ง เนื่องจาก INCIDENT_ID จะถูกทำซ้ำหากมีการกระทำความผิดหลายครั้งพร้อมกัน และ OFFENSE_CODE และ OFFENSE_CODE_EXTENSION จะทำซ้ำทุกครั้งที่มีการกระทำความผิดประเภทใดประเภทหนึ่ง\n",
        "\n",
        "2. INCIDENT_ID เป็นตัวระบุเฉพาะสำหรับการเกิดขึ้นของความผิด OFFENSE_ID ส่วนใหญ่มี INCIDENT_ID ที่ไม่ซ้ำกัน แต่เมื่อมีคนกระทำความผิดหลายครั้งพร้อมกัน เช่น การครอบครองสุราและการครอบครองนางเอก หลาย OFFENSE_ID จะถูกสร้างขึ้นจาก INCIDENT_ID\n",
        "\n",
        "3. OFFENSE_CODE เป็นตัวระบุเฉพาะสำหรับความผิดบางประเภท สิ่งต่างๆ เช่น ความผิดทางอาญา การบุกรุก การลักขโมย ฯลฯ ล้วนมีค่า OFFENSE__CODE ที่แตกต่างกันในการระบุ\n",
        "\n",
        "4. OFFENSE_CODE_EXTENSION ใช้เพื่ออธิบายกลุ่มย่อยของอาชญากรรมประเภทอื่น ตัวอย่างเช่น crime_mischief- ยานยนต์และ crime_mischief-other มี OFFENSE_CODE เหมือนกัน แต่มีส่วนขยายต่างกันเพื่อแยกความแตกต่าง\n",
        "\n",
        "5. OFFENSE_TYPE_ID ให้ชื่อจริงสำหรับความผิดในเงื่อนไข lamens การรวมกันของ OFFENSE_CODE และ OFFENSE_EXTENSION แต่ละครั้งจะอ้างอิงถึงอาชญากรรมที่ไม่ซ้ำกัน เนื้อหาของคอลัมน์นี้รวมถึงสิ่งต่าง ๆ เช่น การขโมยของในร้านค้า การบุกรุกทางอาญา และการข่มขู่ที่จะทำร้าย\n",
        "\n",
        "6. OFFENSE_CATEGORY_ID ให้การจัดหมวดหมู่ทั่วไปสำหรับอาชญากรรม ตัวอย่างเช่น การขโมยของในร้านค้า และการขโมยจากตึกเป็นทั้งสองรูปแบบของการลักขโมย\n",
        "\n",
        "7. FIRST_OCCURENCE_DATE คือวันที่/เวลาแรกที่เป็นไปได้ของการกระทำผิด หากทราบเวลาของการกระทำผิด LAST_OCCURENCE_DATE จะมีค่า NaN หากไม่ทราบเวลา FIRST_OCCURENCE_DATE จะบันทึกเวลาที่เป็นไปได้ครั้งแรกสำหรับความผิด และ LAST_OCCURENCE_DATE จะเป็นครั้งสุดท้ายที่กระทำความผิด มักเกิดขึ้นกับการลักทรัพย์ โดยอาจไม่ทราบเวลาที่แน่นอนของการกระทำความผิด แต่ทราบระยะเวลา\n",
        "\n",
        "8. LAST_OCCURENCE_DATE จะเป็น NaN หากทราบเวลาที่แน่นอนของการกระทำผิด และจะเป็นเวลาจริงหากทราบเฉพาะช่วงที่เป็นไปได้เท่านั้น ในกรณีหลังจะเป็นครั้งสุดท้ายที่ความผิดอาจเกิดขึ้นได้\n",
        "\n",
        "9. REPORTED_DATE คือเวลาที่แจ้งความกับตำรวจ\n",
        "\n",
        "10. INCIDENT_ADDRESS ระบุตำแหน่งของการกระทำความผิด ไม่ใช่ทุกรายการที่มีค่าสำหรับคอลัมน์นี้เนื่องจากเหตุผลด้านความเป็นส่วนตัว\n",
        "\n",
        "11. GEO_LON และ GEO_LAT คือละติจูดและลองจิจูดของตำแหน่งของการกระทำความผิด\n",
        "\n",
        "12. GEO_X และ GEO_Y เป็นระนาบของรัฐ (ภาพประมาณการมาตรฐานเมืองเดนเวอร์) สำหรับสถานที่กระทำความผิด การทำงานคล้ายกับ GEO_LON และ GEO_LAT\n",
        "\n",
        "13. DISTRICT_ID เป็นเขตที่รับผิดชอบในการจัดการความผิด\n",
        "\n",
        "14. PRECINCT_ID เป็นเขตที่รับผิดชอบในการจัดการความผิด\n",
        "\n",
        "15. NEIGHBORHOOD_ID คือพื้นที่ใกล้เคียงที่เกิดความผิดใน\n",
        "\n",
        "16. IS_CRIME ระบุว่าความผิดนั้นเป็นอาชญากรรมหรือไม่\n",
        "\n",
        "17. IS_TRAFFIC ระบุว่าการกระทำดังกล่าวเป็นเหตุการณ์การจราจรหรือไม่\n",
        "\n"
      ]
    },
    {
      "cell_type": "markdown",
      "metadata": {
        "id": "99vXeIy7dXar"
      },
      "source": [
        "###เรียกใช้ข้อมูล"
      ]
    },
    {
      "cell_type": "code",
      "source": [
        "!pip install xlsxwriter"
      ],
      "metadata": {
        "id": "6uV_k0616K59",
        "colab": {
          "base_uri": "https://localhost:8080/"
        },
        "outputId": "e1077b18-3247-488a-a93b-547ef55f0424"
      },
      "execution_count": null,
      "outputs": [
        {
          "output_type": "stream",
          "name": "stdout",
          "text": [
            "Requirement already satisfied: xlsxwriter in /usr/local/lib/python3.7/dist-packages (3.0.3)\n"
          ]
        }
      ]
    },
    {
      "cell_type": "code",
      "execution_count": null,
      "metadata": {
        "colab": {
          "base_uri": "https://localhost:8080/"
        },
        "id": "vHuCZkHzlDa3",
        "outputId": "9b7c6808-1256-4f0c-8b6e-2333ea0af112"
      },
      "outputs": [
        {
          "output_type": "stream",
          "name": "stdout",
          "text": [
            "Requirement already satisfied: yellowbrick in /usr/local/lib/python3.7/dist-packages (1.4)\n",
            "Requirement already satisfied: scipy>=1.0.0 in /usr/local/lib/python3.7/dist-packages (from yellowbrick) (1.4.1)\n",
            "Requirement already satisfied: matplotlib!=3.0.0,>=2.0.2 in /usr/local/lib/python3.7/dist-packages (from yellowbrick) (3.2.2)\n",
            "Requirement already satisfied: cycler>=0.10.0 in /usr/local/lib/python3.7/dist-packages (from yellowbrick) (0.11.0)\n",
            "Requirement already satisfied: numpy>=1.16.0 in /usr/local/lib/python3.7/dist-packages (from yellowbrick) (1.21.5)\n",
            "Requirement already satisfied: scikit-learn>=1.0.0 in /usr/local/lib/python3.7/dist-packages (from yellowbrick) (1.0.2)\n",
            "Requirement already satisfied: kiwisolver>=1.0.1 in /usr/local/lib/python3.7/dist-packages (from matplotlib!=3.0.0,>=2.0.2->yellowbrick) (1.3.2)\n",
            "Requirement already satisfied: pyparsing!=2.0.4,!=2.1.2,!=2.1.6,>=2.0.1 in /usr/local/lib/python3.7/dist-packages (from matplotlib!=3.0.0,>=2.0.2->yellowbrick) (3.0.7)\n",
            "Requirement already satisfied: python-dateutil>=2.1 in /usr/local/lib/python3.7/dist-packages (from matplotlib!=3.0.0,>=2.0.2->yellowbrick) (2.8.2)\n",
            "Requirement already satisfied: six>=1.5 in /usr/local/lib/python3.7/dist-packages (from python-dateutil>=2.1->matplotlib!=3.0.0,>=2.0.2->yellowbrick) (1.15.0)\n",
            "Requirement already satisfied: joblib>=0.11 in /usr/local/lib/python3.7/dist-packages (from scikit-learn>=1.0.0->yellowbrick) (1.1.0)\n",
            "Requirement already satisfied: threadpoolctl>=2.0.0 in /usr/local/lib/python3.7/dist-packages (from scikit-learn>=1.0.0->yellowbrick) (3.1.0)\n"
          ]
        }
      ],
      "source": [
        "!pip install yellowbrick #visualization libary"
      ]
    },
    {
      "cell_type": "code",
      "source": [],
      "metadata": {
        "id": "a0c3lFGDu7tM"
      },
      "execution_count": null,
      "outputs": []
    },
    {
      "cell_type": "code",
      "execution_count": null,
      "metadata": {
        "id": "YkgcbQaMWnb4"
      },
      "outputs": [],
      "source": [
        "import pandas as pd\n",
        "import numpy as np\n",
        "import matplotlib.pyplot as plt\n",
        "%matplotlib inline\n",
        "from sklearn.model_selection import train_test_split#, GridSearchCV\n",
        "from sklearn.model_selection #import cross_validate\n",
        "from sklearn import metrics#, preprocessing\n",
        "from sklearn.metrics import classification_report, confusion_matrix, mean_squared_error, precision_score, recall_score, confusion_matrix, classification_report, accuracy_score, f1_score\n",
        "\n",
        "from sklearn.neighbors import KNeighborsClassifier\n",
        "from sklearn.ensemble import RandomForestClassifier,VotingClassifier\n",
        "from sklearn.naive_bayes import GaussianNB\n",
        "from sklearn.neural_network import MLPClassifier\n",
        "\n",
        "import seaborn as sns\n",
        "#from statsmodels.tsa.arima_model import ARIMA\n",
        "from yellowbrick.classifier import ClassificationReport\n",
        "import warnings\n",
        "warnings.filterwarnings(action = 'ignore')\n",
        "\n",
        "import xlsxwriter"
      ]
    },
    {
      "cell_type": "code",
      "execution_count": null,
      "metadata": {
        "colab": {
          "base_uri": "https://localhost:8080/"
        },
        "id": "5S_Tj4XsYTcw",
        "outputId": "2cfe31d5-025c-432d-9b5d-edb1fc8e8bfc"
      },
      "outputs": [
        {
          "output_type": "execute_result",
          "data": {
            "text/html": [
              "\n",
              "  <div id=\"df-8efb852f-7470-4790-926a-4915feaa7e5e\">\n",
              "    <div class=\"colab-df-container\">\n",
              "      <div>\n",
              "<style scoped>\n",
              "    .dataframe tbody tr th:only-of-type {\n",
              "        vertical-align: middle;\n",
              "    }\n",
              "\n",
              "    .dataframe tbody tr th {\n",
              "        vertical-align: top;\n",
              "    }\n",
              "\n",
              "    .dataframe thead th {\n",
              "        text-align: right;\n",
              "    }\n",
              "</style>\n",
              "<table border=\"1\" class=\"dataframe\">\n",
              "  <thead>\n",
              "    <tr style=\"text-align: right;\">\n",
              "      <th></th>\n",
              "      <th>incident_id</th>\n",
              "      <th>offense_id</th>\n",
              "      <th>OFFENSE_CODE</th>\n",
              "      <th>OFFENSE_CODE_EXTENSION</th>\n",
              "      <th>OFFENSE_TYPE_ID</th>\n",
              "      <th>OFFENSE_CATEGORY_ID</th>\n",
              "      <th>FIRST_OCCURRENCE_DATE</th>\n",
              "      <th>LAST_OCCURRENCE_DATE</th>\n",
              "      <th>REPORTED_DATE</th>\n",
              "      <th>INCIDENT_ADDRESS</th>\n",
              "      <th>GEO_X</th>\n",
              "      <th>GEO_Y</th>\n",
              "      <th>GEO_LON</th>\n",
              "      <th>GEO_LAT</th>\n",
              "      <th>DISTRICT_ID</th>\n",
              "      <th>PRECINCT_ID</th>\n",
              "      <th>NEIGHBORHOOD_ID</th>\n",
              "      <th>IS_CRIME</th>\n",
              "      <th>IS_TRAFFIC</th>\n",
              "    </tr>\n",
              "  </thead>\n",
              "  <tbody>\n",
              "    <tr>\n",
              "      <th>0</th>\n",
              "      <td>20226000193</td>\n",
              "      <td>2.022600e+16</td>\n",
              "      <td>2999</td>\n",
              "      <td>0</td>\n",
              "      <td>criminal-mischief-other</td>\n",
              "      <td>public-disorder</td>\n",
              "      <td>2022-04-01 11:30:00</td>\n",
              "      <td>2022-04-01 12:00:00</td>\n",
              "      <td>2022-04-01 20:36:00</td>\n",
              "      <td>128 S CANOSA CT</td>\n",
              "      <td>3135366.0</td>\n",
              "      <td>1685410.0</td>\n",
              "      <td>-105.018825</td>\n",
              "      <td>39.714268</td>\n",
              "      <td>4.0</td>\n",
              "      <td>411.0</td>\n",
              "      <td>valverde</td>\n",
              "      <td>1</td>\n",
              "      <td>0</td>\n",
              "    </tr>\n",
              "    <tr>\n",
              "      <th>1</th>\n",
              "      <td>20223319</td>\n",
              "      <td>2.022332e+13</td>\n",
              "      <td>2999</td>\n",
              "      <td>0</td>\n",
              "      <td>criminal-mischief-other</td>\n",
              "      <td>public-disorder</td>\n",
              "      <td>2022-03-01 06:45:00</td>\n",
              "      <td>NaN</td>\n",
              "      <td>2022-03-01 11:01:00</td>\n",
              "      <td>650 15TH ST</td>\n",
              "      <td>3142454.0</td>\n",
              "      <td>1696151.0</td>\n",
              "      <td>-104.993418</td>\n",
              "      <td>39.743649</td>\n",
              "      <td>6.0</td>\n",
              "      <td>611.0</td>\n",
              "      <td>cbd</td>\n",
              "      <td>1</td>\n",
              "      <td>0</td>\n",
              "    </tr>\n",
              "    <tr>\n",
              "      <th>2</th>\n",
              "      <td>20223093</td>\n",
              "      <td>2.022309e+13</td>\n",
              "      <td>2999</td>\n",
              "      <td>0</td>\n",
              "      <td>criminal-mischief-other</td>\n",
              "      <td>public-disorder</td>\n",
              "      <td>2022-03-01 01:00:00</td>\n",
              "      <td>NaN</td>\n",
              "      <td>2022-03-01 06:11:00</td>\n",
              "      <td>919 E COLFAX AVE</td>\n",
              "      <td>3147484.0</td>\n",
              "      <td>1694898.0</td>\n",
              "      <td>-104.975557</td>\n",
              "      <td>39.740130</td>\n",
              "      <td>6.0</td>\n",
              "      <td>621.0</td>\n",
              "      <td>north-capitol-hill</td>\n",
              "      <td>1</td>\n",
              "      <td>0</td>\n",
              "    </tr>\n",
              "    <tr>\n",
              "      <th>3</th>\n",
              "      <td>20224000</td>\n",
              "      <td>2.022400e+13</td>\n",
              "      <td>2999</td>\n",
              "      <td>0</td>\n",
              "      <td>criminal-mischief-other</td>\n",
              "      <td>public-disorder</td>\n",
              "      <td>2022-03-01 19:47:00</td>\n",
              "      <td>NaN</td>\n",
              "      <td>2022-03-01 21:12:00</td>\n",
              "      <td>2345 W ALAMEDA AVE</td>\n",
              "      <td>3136478.0</td>\n",
              "      <td>1684414.0</td>\n",
              "      <td>-105.014892</td>\n",
              "      <td>39.711518</td>\n",
              "      <td>4.0</td>\n",
              "      <td>411.0</td>\n",
              "      <td>valverde</td>\n",
              "      <td>1</td>\n",
              "      <td>0</td>\n",
              "    </tr>\n",
              "    <tr>\n",
              "      <th>4</th>\n",
              "      <td>20223956</td>\n",
              "      <td>2.022396e+13</td>\n",
              "      <td>2999</td>\n",
              "      <td>0</td>\n",
              "      <td>criminal-mischief-other</td>\n",
              "      <td>public-disorder</td>\n",
              "      <td>2022-03-01 17:06:00</td>\n",
              "      <td>NaN</td>\n",
              "      <td>2022-03-01 20:31:00</td>\n",
              "      <td>7800 E SMITH RD</td>\n",
              "      <td>3169237.0</td>\n",
              "      <td>1705800.0</td>\n",
              "      <td>-104.897950</td>\n",
              "      <td>39.769688</td>\n",
              "      <td>5.0</td>\n",
              "      <td>512.0</td>\n",
              "      <td>central-park</td>\n",
              "      <td>1</td>\n",
              "      <td>0</td>\n",
              "    </tr>\n",
              "  </tbody>\n",
              "</table>\n",
              "</div>\n",
              "      <button class=\"colab-df-convert\" onclick=\"convertToInteractive('df-8efb852f-7470-4790-926a-4915feaa7e5e')\"\n",
              "              title=\"Convert this dataframe to an interactive table.\"\n",
              "              style=\"display:none;\">\n",
              "        \n",
              "  <svg xmlns=\"http://www.w3.org/2000/svg\" height=\"24px\"viewBox=\"0 0 24 24\"\n",
              "       width=\"24px\">\n",
              "    <path d=\"M0 0h24v24H0V0z\" fill=\"none\"/>\n",
              "    <path d=\"M18.56 5.44l.94 2.06.94-2.06 2.06-.94-2.06-.94-.94-2.06-.94 2.06-2.06.94zm-11 1L8.5 8.5l.94-2.06 2.06-.94-2.06-.94L8.5 2.5l-.94 2.06-2.06.94zm10 10l.94 2.06.94-2.06 2.06-.94-2.06-.94-.94-2.06-.94 2.06-2.06.94z\"/><path d=\"M17.41 7.96l-1.37-1.37c-.4-.4-.92-.59-1.43-.59-.52 0-1.04.2-1.43.59L10.3 9.45l-7.72 7.72c-.78.78-.78 2.05 0 2.83L4 21.41c.39.39.9.59 1.41.59.51 0 1.02-.2 1.41-.59l7.78-7.78 2.81-2.81c.8-.78.8-2.07 0-2.86zM5.41 20L4 18.59l7.72-7.72 1.47 1.35L5.41 20z\"/>\n",
              "  </svg>\n",
              "      </button>\n",
              "      \n",
              "  <style>\n",
              "    .colab-df-container {\n",
              "      display:flex;\n",
              "      flex-wrap:wrap;\n",
              "      gap: 12px;\n",
              "    }\n",
              "\n",
              "    .colab-df-convert {\n",
              "      background-color: #E8F0FE;\n",
              "      border: none;\n",
              "      border-radius: 50%;\n",
              "      cursor: pointer;\n",
              "      display: none;\n",
              "      fill: #1967D2;\n",
              "      height: 32px;\n",
              "      padding: 0 0 0 0;\n",
              "      width: 32px;\n",
              "    }\n",
              "\n",
              "    .colab-df-convert:hover {\n",
              "      background-color: #E2EBFA;\n",
              "      box-shadow: 0px 1px 2px rgba(60, 64, 67, 0.3), 0px 1px 3px 1px rgba(60, 64, 67, 0.15);\n",
              "      fill: #174EA6;\n",
              "    }\n",
              "\n",
              "    [theme=dark] .colab-df-convert {\n",
              "      background-color: #3B4455;\n",
              "      fill: #D2E3FC;\n",
              "    }\n",
              "\n",
              "    [theme=dark] .colab-df-convert:hover {\n",
              "      background-color: #434B5C;\n",
              "      box-shadow: 0px 1px 3px 1px rgba(0, 0, 0, 0.15);\n",
              "      filter: drop-shadow(0px 1px 2px rgba(0, 0, 0, 0.3));\n",
              "      fill: #FFFFFF;\n",
              "    }\n",
              "  </style>\n",
              "\n",
              "      <script>\n",
              "        const buttonEl =\n",
              "          document.querySelector('#df-8efb852f-7470-4790-926a-4915feaa7e5e button.colab-df-convert');\n",
              "        buttonEl.style.display =\n",
              "          google.colab.kernel.accessAllowed ? 'block' : 'none';\n",
              "\n",
              "        async function convertToInteractive(key) {\n",
              "          const element = document.querySelector('#df-8efb852f-7470-4790-926a-4915feaa7e5e');\n",
              "          const dataTable =\n",
              "            await google.colab.kernel.invokeFunction('convertToInteractive',\n",
              "                                                     [key], {});\n",
              "          if (!dataTable) return;\n",
              "\n",
              "          const docLinkHtml = 'Like what you see? Visit the ' +\n",
              "            '<a target=\"_blank\" href=https://colab.research.google.com/notebooks/data_table.ipynb>data table notebook</a>'\n",
              "            + ' to learn more about interactive tables.';\n",
              "          element.innerHTML = '';\n",
              "          dataTable['output_type'] = 'display_data';\n",
              "          await google.colab.output.renderOutput(dataTable, element);\n",
              "          const docLink = document.createElement('div');\n",
              "          docLink.innerHTML = docLinkHtml;\n",
              "          element.appendChild(docLink);\n",
              "        }\n",
              "      </script>\n",
              "    </div>\n",
              "  </div>\n",
              "  "
            ],
            "text/plain": [
              "   incident_id    offense_id  OFFENSE_CODE  OFFENSE_CODE_EXTENSION  \\\n",
              "0  20226000193  2.022600e+16          2999                       0   \n",
              "1     20223319  2.022332e+13          2999                       0   \n",
              "2     20223093  2.022309e+13          2999                       0   \n",
              "3     20224000  2.022400e+13          2999                       0   \n",
              "4     20223956  2.022396e+13          2999                       0   \n",
              "\n",
              "           OFFENSE_TYPE_ID OFFENSE_CATEGORY_ID FIRST_OCCURRENCE_DATE  \\\n",
              "0  criminal-mischief-other     public-disorder   2022-04-01 11:30:00   \n",
              "1  criminal-mischief-other     public-disorder   2022-03-01 06:45:00   \n",
              "2  criminal-mischief-other     public-disorder   2022-03-01 01:00:00   \n",
              "3  criminal-mischief-other     public-disorder   2022-03-01 19:47:00   \n",
              "4  criminal-mischief-other     public-disorder   2022-03-01 17:06:00   \n",
              "\n",
              "  LAST_OCCURRENCE_DATE        REPORTED_DATE    INCIDENT_ADDRESS      GEO_X  \\\n",
              "0  2022-04-01 12:00:00  2022-04-01 20:36:00     128 S CANOSA CT  3135366.0   \n",
              "1                  NaN  2022-03-01 11:01:00         650 15TH ST  3142454.0   \n",
              "2                  NaN  2022-03-01 06:11:00    919 E COLFAX AVE  3147484.0   \n",
              "3                  NaN  2022-03-01 21:12:00  2345 W ALAMEDA AVE  3136478.0   \n",
              "4                  NaN  2022-03-01 20:31:00     7800 E SMITH RD  3169237.0   \n",
              "\n",
              "       GEO_Y     GEO_LON    GEO_LAT  DISTRICT_ID  PRECINCT_ID  \\\n",
              "0  1685410.0 -105.018825  39.714268          4.0        411.0   \n",
              "1  1696151.0 -104.993418  39.743649          6.0        611.0   \n",
              "2  1694898.0 -104.975557  39.740130          6.0        621.0   \n",
              "3  1684414.0 -105.014892  39.711518          4.0        411.0   \n",
              "4  1705800.0 -104.897950  39.769688          5.0        512.0   \n",
              "\n",
              "      NEIGHBORHOOD_ID  IS_CRIME  IS_TRAFFIC  \n",
              "0            valverde         1           0  \n",
              "1                 cbd         1           0  \n",
              "2  north-capitol-hill         1           0  \n",
              "3            valverde         1           0  \n",
              "4        central-park         1           0  "
            ]
          },
          "metadata": {},
          "execution_count": 96
        }
      ],
      "source": [
        "df = pd.read_excel(\"/content/crime data.xlsx\")\n",
        "df.head()"
      ]
    },
    {
      "cell_type": "markdown",
      "metadata": {
        "id": "F_IA_0Zyf3gu"
      },
      "source": [
        "###classification"
      ]
    },
    {
      "cell_type": "code",
      "execution_count": null,
      "metadata": {
        "id": "2sO7PZqt1urd",
        "colab": {
          "base_uri": "https://localhost:8080/"
        },
        "outputId": "eeeac18f-a2f6-44cc-94b5-06076e883312"
      },
      "outputs": [
        {
          "output_type": "execute_result",
          "data": {
            "text/plain": [
              "0           0\n",
              "1           0\n",
              "2           0\n",
              "3           0\n",
              "4           0\n",
              "         ... \n",
              "462096     78\n",
              "462097     78\n",
              "462098     79\n",
              "462099     79\n",
              "462100    197\n",
              "Name: OFFENSE_TYPE_ID, Length: 462101, dtype: int64"
            ]
          },
          "metadata": {},
          "execution_count": 97
        }
      ],
      "source": [
        "df['OFFENSE_TYPE_ID'] = pd.factorize(df[\"OFFENSE_TYPE_ID\"])[0] \n",
        "df['OFFENSE_TYPE_ID']"
      ]
    },
    {
      "cell_type": "code",
      "execution_count": null,
      "metadata": {
        "colab": {
          "base_uri": "https://localhost:8080/"
        },
        "id": "e2hcFLPG2ihD",
        "outputId": "e825b92b-9dce-499a-a059-71c8bd4877a4"
      },
      "outputs": [
        {
          "output_type": "display_data",
          "data": {
            "image/png": "[encoded data removed]",
            "text/plain": [
              "<Figure size 1008x720 with 1 Axes>"
            ]
          },
          "metadata": {
            "needs_background": "light"
          }
        }
      ],
      "source": [
        "plt.figure(figsize=(14,10))\n",
        "plt.title('Amount of Crimes by OFFENSE_CATEGORY_ID')\n",
        "plt.ylabel('Crime Type')\n",
        "plt.xlabel('Amount of Crimes')\n",
        "\n",
        "df.groupby([df['OFFENSE_CATEGORY_ID']]).size().sort_values(ascending=True).plot(kind='barh')\n",
        "\n",
        "plt.show()"
      ]
    },
    {
      "cell_type": "code",
      "execution_count": null,
      "metadata": {
        "colab": {
          "base_uri": "https://localhost:8080/"
        },
        "id": "RYEZ6U4N9KyI",
        "outputId": "3eacdd15-ffd7-4703-d589-02415b484073"
      },
      "outputs": [
        {
          "output_type": "execute_result",
          "data": {
            "text/plain": [
              "array(['public-disorder', 'drug-alcohol', 'sexual-assault',\n",
              "       'all-other-crimes', 'traffic-accident', 'robbery',\n",
              "       'other-crimes-against-persons', 'aggravated-assault', 'arson',\n",
              "       'burglary', 'larceny', 'theft-from-motor-vehicle', 'auto-theft',\n",
              "       'white-collar-crime', 'murder'], dtype=object)"
            ]
          },
          "metadata": {},
          "execution_count": 100
        }
      ],
      "source": [
        "Classes = df['OFFENSE_CATEGORY_ID'].unique()\n",
        "Classes"
      ]
    },
    {
      "cell_type": "code",
      "execution_count": null,
      "metadata": {
        "colab": {
          "base_uri": "https://localhost:8080/"
        },
        "id": "OvuxphLM9Nku",
        "outputId": "67fc6561-8489-49eb-a304-8ef82b363235"
      },
      "outputs": [
        {
          "output_type": "execute_result",
          "data": {
            "text/plain": [
              "array([ 0,  1,  2,  3,  4,  5,  6,  7,  8,  9, 10, 11, 12, 13, 14])"
            ]
          },
          "metadata": {},
          "execution_count": 101
        }
      ],
      "source": [
        "df['OFFENSE_CATEGORY_ID'] = pd.factorize(df[\"OFFENSE_CATEGORY_ID\"])[0] \n",
        "df['OFFENSE_CATEGORY_ID'].unique()"
      ]
    },
    {
      "cell_type": "code",
      "execution_count": null,
      "metadata": {
        "colab": {
          "base_uri": "https://localhost:8080/"
        },
        "id": "-IvPhvA19Spw",
        "outputId": "69b99e7d-47a1-4d40-8441-92dd0716e73e"
      },
      "outputs": [
        {
          "output_type": "display_data",
          "data": {
            "image/png": "[encoded data removed]",
            "text/plain": [
              "<Figure size 1440x720 with 2 Axes>"
            ]
          },
          "metadata": {
            "needs_background": "light"
          }
        }
      ],
      "source": [
        "X_fs = df.drop(['OFFENSE_CATEGORY_ID'], axis=1)\n",
        "Y_fs = df['OFFENSE_CATEGORY_ID']\n",
        "\n",
        "plt.figure(figsize=(20,10))\n",
        "cor = df.corr()\n",
        "sns.heatmap(cor, annot=True, cmap=plt.cm.Reds) \n",
        "plt.show()"
      ]
    },
    {
      "cell_type": "code",
      "execution_count": null,
      "metadata": {
        "colab": {
          "base_uri": "https://localhost:8080/"
        },
        "id": "ovokUKlq9fSx",
        "outputId": "e02b8db0-f651-4c3c-f1c3-0a959bb6d1db"
      },
      "outputs": [
        {
          "output_type": "execute_result",
          "data": {
            "text/plain": [
              "OFFENSE_CODE           0.553168\n",
              "OFFENSE_TYPE_ID        0.558141\n",
              "OFFENSE_CATEGORY_ID    1.000000\n",
              "IS_CRIME               0.255859\n",
              "IS_TRAFFIC             0.256271\n",
              "Name: OFFENSE_CATEGORY_ID, dtype: float64"
            ]
          },
          "metadata": {},
          "execution_count": 103
        }
      ],
      "source": [
        "cor_target = abs(cor['OFFENSE_CATEGORY_ID'])\n",
        "relevant_features = cor_target[cor_target>0.2]\n",
        "relevant_features"
      ]
    },
    {
      "cell_type": "code",
      "execution_count": null,
      "metadata": {
        "colab": {
          "base_uri": "https://localhost:8080/"
        },
        "id": "35vClQSe2KvF",
        "outputId": "977d25b9-2e45-4849-99e2-a3ce8166e990"
      },
      "outputs": [
        {
          "output_type": "stream",
          "name": "stdout",
          "text": [
            "Target:  OFFENSE_CATEGORY_ID\n"
          ]
        }
      ],
      "source": [
        "Target = 'OFFENSE_CATEGORY_ID'\n",
        "print('Target: ', Target)"
      ]
    },
    {
      "cell_type": "code",
      "execution_count": null,
      "metadata": {
        "colab": {
          "base_uri": "https://localhost:8080/"
        },
        "id": "CaIkF6UY9k5V",
        "outputId": "c05fa36a-b091-4af4-de47-fe9dad0903a9"
      },
      "outputs": [
        {
          "output_type": "stream",
          "name": "stdout",
          "text": [
            "Full Features:  ['OFFENSE_TYPE_ID']\n"
          ]
        }
      ],
      "source": [
        "Features = [\"OFFENSE_TYPE_ID\"]\n",
        "print('Full Features: ', Features)"
      ]
    },
    {
      "cell_type": "code",
      "execution_count": null,
      "metadata": {
        "colab": {
          "base_uri": "https://localhost:8080/"
        },
        "id": "C6k3hsqM951Y",
        "outputId": "13a39675-320e-4f9c-c761-af38087e1532"
      },
      "outputs": [
        {
          "output_type": "stream",
          "name": "stdout",
          "text": [
            "Feature Set Used    :  ['OFFENSE_TYPE_ID']\n",
            "Target Class        :  OFFENSE_CATEGORY_ID\n",
            "Training Set Size   :  (323470, 19)\n",
            "Test Set Size       :  (138631, 19)\n"
          ]
        }
      ],
      "source": [
        "x, y = train_test_split(df, test_size = 0.3, train_size = 0.7, random_state= 3)\n",
        "x1 = x[Features]    \n",
        "x2 = x[Target]      \n",
        "y1 = y[Features]    \n",
        "y2 = y[Target]      \n",
        "print('Feature Set Used    : ', Features) \n",
        "print('Target Class        : ', Target) \n",
        "print('Training Set Size   : ', x.shape) \n",
        "print('Test Set Size       : ', y.shape)"
      ]
    },
    {
      "cell_type": "code",
      "source": [
        "dataframe = pd.DataFrame(x1)\n",
        "writer = pd.ExcelWriter('x1.xlsx', engine='xlsxwriter')\n",
        "dataframe.to_excel(writer)\n",
        "writer.save()"
      ],
      "metadata": {
        "id": "n228jbC45yXZ"
      },
      "execution_count": null,
      "outputs": []
    },
    {
      "cell_type": "code",
      "source": [
        "dataframe = pd.DataFrame(x2)\n",
        "writer = pd.ExcelWriter('x2.xlsx', engine='xlsxwriter')\n",
        "dataframe.to_excel(writer)\n",
        "writer.save()"
      ],
      "metadata": {
        "id": "HkGMkzga53Eb"
      },
      "execution_count": null,
      "outputs": []
    },
    {
      "cell_type": "code",
      "source": [
        "dataframe = pd.DataFrame(y1)\n",
        "writer = pd.ExcelWriter('y1.xlsx', engine='xlsxwriter')\n",
        "dataframe.to_excel(writer)\n",
        "writer.save()"
      ],
      "metadata": {
        "id": "STS-LtLg54lt"
      },
      "execution_count": null,
      "outputs": []
    },
    {
      "cell_type": "code",
      "source": [
        "dataframe = pd.DataFrame(y2)\n",
        "writer = pd.ExcelWriter('y2.xlsx', engine='xlsxwriter')\n",
        "dataframe.to_excel(writer)\n",
        "writer.save()"
      ],
      "metadata": {
        "id": "66igAGJC57_V"
      },
      "execution_count": null,
      "outputs": []
    },
    {
      "cell_type": "code",
      "source": [
        "x1 = pd.read_excel(\"/content/x1.xlsx\")\n",
        "x1"
      ],
      "metadata": {
        "colab": {
          "base_uri": "https://localhost:8080/"
        },
        "id": "-8qexkp9591w",
        "outputId": "f671737b-304a-4c41-b5f7-00dd8c03d1a3"
      },
      "execution_count": null,
      "outputs": [
        {
          "output_type": "execute_result",
          "data": {
            "text/html": [
              "\n",
              "  <div id=\"df-0312699a-1ed6-4591-830e-540209b9b3d3\">\n",
              "    <div class=\"colab-df-container\">\n",
              "      <div>\n",
              "<style scoped>\n",
              "    .dataframe tbody tr th:only-of-type {\n",
              "        vertical-align: middle;\n",
              "    }\n",
              "\n",
              "    .dataframe tbody tr th {\n",
              "        vertical-align: top;\n",
              "    }\n",
              "\n",
              "    .dataframe thead th {\n",
              "        text-align: right;\n",
              "    }\n",
              "</style>\n",
              "<table border=\"1\" class=\"dataframe\">\n",
              "  <thead>\n",
              "    <tr style=\"text-align: right;\">\n",
              "      <th></th>\n",
              "      <th>Unnamed: 0</th>\n",
              "      <th>OFFENSE_TYPE_ID</th>\n",
              "    </tr>\n",
              "  </thead>\n",
              "  <tbody>\n",
              "    <tr>\n",
              "      <th>0</th>\n",
              "      <td>377520</td>\n",
              "      <td>68</td>\n",
              "    </tr>\n",
              "    <tr>\n",
              "      <th>1</th>\n",
              "      <td>2939</td>\n",
              "      <td>0</td>\n",
              "    </tr>\n",
              "    <tr>\n",
              "      <th>2</th>\n",
              "      <td>311293</td>\n",
              "      <td>60</td>\n",
              "    </tr>\n",
              "    <tr>\n",
              "      <th>3</th>\n",
              "      <td>27893</td>\n",
              "      <td>1</td>\n",
              "    </tr>\n",
              "    <tr>\n",
              "      <th>4</th>\n",
              "      <td>234313</td>\n",
              "      <td>33</td>\n",
              "    </tr>\n",
              "    <tr>\n",
              "      <th>...</th>\n",
              "      <td>...</td>\n",
              "      <td>...</td>\n",
              "    </tr>\n",
              "    <tr>\n",
              "      <th>323465</th>\n",
              "      <td>48056</td>\n",
              "      <td>93</td>\n",
              "    </tr>\n",
              "    <tr>\n",
              "      <th>323466</th>\n",
              "      <td>452227</td>\n",
              "      <td>194</td>\n",
              "    </tr>\n",
              "    <tr>\n",
              "      <th>323467</th>\n",
              "      <td>77049</td>\n",
              "      <td>21</td>\n",
              "    </tr>\n",
              "    <tr>\n",
              "      <th>323468</th>\n",
              "      <td>198296</td>\n",
              "      <td>30</td>\n",
              "    </tr>\n",
              "    <tr>\n",
              "      <th>323469</th>\n",
              "      <td>71530</td>\n",
              "      <td>130</td>\n",
              "    </tr>\n",
              "  </tbody>\n",
              "</table>\n",
              "<p>323470 rows × 2 columns</p>\n",
              "</div>\n",
              "      <button class=\"colab-df-convert\" onclick=\"convertToInteractive('df-0312699a-1ed6-4591-830e-540209b9b3d3')\"\n",
              "              title=\"Convert this dataframe to an interactive table.\"\n",
              "              style=\"display:none;\">\n",
              "        \n",
              "  <svg xmlns=\"http://www.w3.org/2000/svg\" height=\"24px\"viewBox=\"0 0 24 24\"\n",
              "       width=\"24px\">\n",
              "    <path d=\"M0 0h24v24H0V0z\" fill=\"none\"/>\n",
              "    <path d=\"M18.56 5.44l.94 2.06.94-2.06 2.06-.94-2.06-.94-.94-2.06-.94 2.06-2.06.94zm-11 1L8.5 8.5l.94-2.06 2.06-.94-2.06-.94L8.5 2.5l-.94 2.06-2.06.94zm10 10l.94 2.06.94-2.06 2.06-.94-2.06-.94-.94-2.06-.94 2.06-2.06.94z\"/><path d=\"M17.41 7.96l-1.37-1.37c-.4-.4-.92-.59-1.43-.59-.52 0-1.04.2-1.43.59L10.3 9.45l-7.72 7.72c-.78.78-.78 2.05 0 2.83L4 21.41c.39.39.9.59 1.41.59.51 0 1.02-.2 1.41-.59l7.78-7.78 2.81-2.81c.8-.78.8-2.07 0-2.86zM5.41 20L4 18.59l7.72-7.72 1.47 1.35L5.41 20z\"/>\n",
              "  </svg>\n",
              "      </button>\n",
              "      \n",
              "  <style>\n",
              "    .colab-df-container {\n",
              "      display:flex;\n",
              "      flex-wrap:wrap;\n",
              "      gap: 12px;\n",
              "    }\n",
              "\n",
              "    .colab-df-convert {\n",
              "      background-color: #E8F0FE;\n",
              "      border: none;\n",
              "      border-radius: 50%;\n",
              "      cursor: pointer;\n",
              "      display: none;\n",
              "      fill: #1967D2;\n",
              "      height: 32px;\n",
              "      padding: 0 0 0 0;\n",
              "      width: 32px;\n",
              "    }\n",
              "\n",
              "    .colab-df-convert:hover {\n",
              "      background-color: #E2EBFA;\n",
              "      box-shadow: 0px 1px 2px rgba(60, 64, 67, 0.3), 0px 1px 3px 1px rgba(60, 64, 67, 0.15);\n",
              "      fill: #174EA6;\n",
              "    }\n",
              "\n",
              "    [theme=dark] .colab-df-convert {\n",
              "      background-color: #3B4455;\n",
              "      fill: #D2E3FC;\n",
              "    }\n",
              "\n",
              "    [theme=dark] .colab-df-convert:hover {\n",
              "      background-color: #434B5C;\n",
              "      box-shadow: 0px 1px 3px 1px rgba(0, 0, 0, 0.15);\n",
              "      filter: drop-shadow(0px 1px 2px rgba(0, 0, 0, 0.3));\n",
              "      fill: #FFFFFF;\n",
              "    }\n",
              "  </style>\n",
              "\n",
              "      <script>\n",
              "        const buttonEl =\n",
              "          document.querySelector('#df-0312699a-1ed6-4591-830e-540209b9b3d3 button.colab-df-convert');\n",
              "        buttonEl.style.display =\n",
              "          google.colab.kernel.accessAllowed ? 'block' : 'none';\n",
              "\n",
              "        async function convertToInteractive(key) {\n",
              "          const element = document.querySelector('#df-0312699a-1ed6-4591-830e-540209b9b3d3');\n",
              "          const dataTable =\n",
              "            await google.colab.kernel.invokeFunction('convertToInteractive',\n",
              "                                                     [key], {});\n",
              "          if (!dataTable) return;\n",
              "\n",
              "          const docLinkHtml = 'Like what you see? Visit the ' +\n",
              "            '<a target=\"_blank\" href=https://colab.research.google.com/notebooks/data_table.ipynb>data table notebook</a>'\n",
              "            + ' to learn more about interactive tables.';\n",
              "          element.innerHTML = '';\n",
              "          dataTable['output_type'] = 'display_data';\n",
              "          await google.colab.output.renderOutput(dataTable, element);\n",
              "          const docLink = document.createElement('div');\n",
              "          docLink.innerHTML = docLinkHtml;\n",
              "          element.appendChild(docLink);\n",
              "        }\n",
              "      </script>\n",
              "    </div>\n",
              "  </div>\n",
              "  "
            ],
            "text/plain": [
              "        Unnamed: 0  OFFENSE_TYPE_ID\n",
              "0           377520               68\n",
              "1             2939                0\n",
              "2           311293               60\n",
              "3            27893                1\n",
              "4           234313               33\n",
              "...            ...              ...\n",
              "323465       48056               93\n",
              "323466      452227              194\n",
              "323467       77049               21\n",
              "323468      198296               30\n",
              "323469       71530              130\n",
              "\n",
              "[323470 rows x 2 columns]"
            ]
          },
          "metadata": {},
          "execution_count": 110
        }
      ]
    },
    {
      "cell_type": "code",
      "source": [
        "x2 = pd.read_excel(\"/content/x2.xlsx\")\n",
        "x2"
      ],
      "metadata": {
        "colab": {
          "base_uri": "https://localhost:8080/"
        },
        "id": "f15sq08l6Bfa",
        "outputId": "247f70bc-710b-4706-d3bb-e4582cf4196c"
      },
      "execution_count": null,
      "outputs": [
        {
          "output_type": "execute_result",
          "data": {
            "text/html": [
              "\n",
              "  <div id=\"df-a22dfd7e-280f-4f35-a4da-bf9553cd0f43\">\n",
              "    <div class=\"colab-df-container\">\n",
              "      <div>\n",
              "<style scoped>\n",
              "    .dataframe tbody tr th:only-of-type {\n",
              "        vertical-align: middle;\n",
              "    }\n",
              "\n",
              "    .dataframe tbody tr th {\n",
              "        vertical-align: top;\n",
              "    }\n",
              "\n",
              "    .dataframe thead th {\n",
              "        text-align: right;\n",
              "    }\n",
              "</style>\n",
              "<table border=\"1\" class=\"dataframe\">\n",
              "  <thead>\n",
              "    <tr style=\"text-align: right;\">\n",
              "      <th></th>\n",
              "      <th>Unnamed: 0</th>\n",
              "      <th>OFFENSE_CATEGORY_ID</th>\n",
              "    </tr>\n",
              "  </thead>\n",
              "  <tbody>\n",
              "    <tr>\n",
              "      <th>0</th>\n",
              "      <td>377520</td>\n",
              "      <td>10</td>\n",
              "    </tr>\n",
              "    <tr>\n",
              "      <th>1</th>\n",
              "      <td>2939</td>\n",
              "      <td>0</td>\n",
              "    </tr>\n",
              "    <tr>\n",
              "      <th>2</th>\n",
              "      <td>311293</td>\n",
              "      <td>9</td>\n",
              "    </tr>\n",
              "    <tr>\n",
              "      <th>3</th>\n",
              "      <td>27893</td>\n",
              "      <td>0</td>\n",
              "    </tr>\n",
              "    <tr>\n",
              "      <th>4</th>\n",
              "      <td>234313</td>\n",
              "      <td>3</td>\n",
              "    </tr>\n",
              "    <tr>\n",
              "      <th>...</th>\n",
              "      <td>...</td>\n",
              "      <td>...</td>\n",
              "    </tr>\n",
              "    <tr>\n",
              "      <th>323465</th>\n",
              "      <td>48056</td>\n",
              "      <td>1</td>\n",
              "    </tr>\n",
              "    <tr>\n",
              "      <th>323466</th>\n",
              "      <td>452227</td>\n",
              "      <td>13</td>\n",
              "    </tr>\n",
              "    <tr>\n",
              "      <th>323467</th>\n",
              "      <td>77049</td>\n",
              "      <td>3</td>\n",
              "    </tr>\n",
              "    <tr>\n",
              "      <th>323468</th>\n",
              "      <td>198296</td>\n",
              "      <td>3</td>\n",
              "    </tr>\n",
              "    <tr>\n",
              "      <th>323469</th>\n",
              "      <td>71530</td>\n",
              "      <td>3</td>\n",
              "    </tr>\n",
              "  </tbody>\n",
              "</table>\n",
              "<p>323470 rows × 2 columns</p>\n",
              "</div>\n",
              "      <button class=\"colab-df-convert\" onclick=\"convertToInteractive('df-a22dfd7e-280f-4f35-a4da-bf9553cd0f43')\"\n",
              "              title=\"Convert this dataframe to an interactive table.\"\n",
              "              style=\"display:none;\">\n",
              "        \n",
              "  <svg xmlns=\"http://www.w3.org/2000/svg\" height=\"24px\"viewBox=\"0 0 24 24\"\n",
              "       width=\"24px\">\n",
              "    <path d=\"M0 0h24v24H0V0z\" fill=\"none\"/>\n",
              "    <path d=\"M18.56 5.44l.94 2.06.94-2.06 2.06-.94-2.06-.94-.94-2.06-.94 2.06-2.06.94zm-11 1L8.5 8.5l.94-2.06 2.06-.94-2.06-.94L8.5 2.5l-.94 2.06-2.06.94zm10 10l.94 2.06.94-2.06 2.06-.94-2.06-.94-.94-2.06-.94 2.06-2.06.94z\"/><path d=\"M17.41 7.96l-1.37-1.37c-.4-.4-.92-.59-1.43-.59-.52 0-1.04.2-1.43.59L10.3 9.45l-7.72 7.72c-.78.78-.78 2.05 0 2.83L4 21.41c.39.39.9.59 1.41.59.51 0 1.02-.2 1.41-.59l7.78-7.78 2.81-2.81c.8-.78.8-2.07 0-2.86zM5.41 20L4 18.59l7.72-7.72 1.47 1.35L5.41 20z\"/>\n",
              "  </svg>\n",
              "      </button>\n",
              "      \n",
              "  <style>\n",
              "    .colab-df-container {\n",
              "      display:flex;\n",
              "      flex-wrap:wrap;\n",
              "      gap: 12px;\n",
              "    }\n",
              "\n",
              "    .colab-df-convert {\n",
              "      background-color: #E8F0FE;\n",
              "      border: none;\n",
              "      border-radius: 50%;\n",
              "      cursor: pointer;\n",
              "      display: none;\n",
              "      fill: #1967D2;\n",
              "      height: 32px;\n",
              "      padding: 0 0 0 0;\n",
              "      width: 32px;\n",
              "    }\n",
              "\n",
              "    .colab-df-convert:hover {\n",
              "      background-color: #E2EBFA;\n",
              "      box-shadow: 0px 1px 2px rgba(60, 64, 67, 0.3), 0px 1px 3px 1px rgba(60, 64, 67, 0.15);\n",
              "      fill: #174EA6;\n",
              "    }\n",
              "\n",
              "    [theme=dark] .colab-df-convert {\n",
              "      background-color: #3B4455;\n",
              "      fill: #D2E3FC;\n",
              "    }\n",
              "\n",
              "    [theme=dark] .colab-df-convert:hover {\n",
              "      background-color: #434B5C;\n",
              "      box-shadow: 0px 1px 3px 1px rgba(0, 0, 0, 0.15);\n",
              "      filter: drop-shadow(0px 1px 2px rgba(0, 0, 0, 0.3));\n",
              "      fill: #FFFFFF;\n",
              "    }\n",
              "  </style>\n",
              "\n",
              "      <script>\n",
              "        const buttonEl =\n",
              "          document.querySelector('#df-a22dfd7e-280f-4f35-a4da-bf9553cd0f43 button.colab-df-convert');\n",
              "        buttonEl.style.display =\n",
              "          google.colab.kernel.accessAllowed ? 'block' : 'none';\n",
              "\n",
              "        async function convertToInteractive(key) {\n",
              "          const element = document.querySelector('#df-a22dfd7e-280f-4f35-a4da-bf9553cd0f43');\n",
              "          const dataTable =\n",
              "            await google.colab.kernel.invokeFunction('convertToInteractive',\n",
              "                                                     [key], {});\n",
              "          if (!dataTable) return;\n",
              "\n",
              "          const docLinkHtml = 'Like what you see? Visit the ' +\n",
              "            '<a target=\"_blank\" href=https://colab.research.google.com/notebooks/data_table.ipynb>data table notebook</a>'\n",
              "            + ' to learn more about interactive tables.';\n",
              "          element.innerHTML = '';\n",
              "          dataTable['output_type'] = 'display_data';\n",
              "          await google.colab.output.renderOutput(dataTable, element);\n",
              "          const docLink = document.createElement('div');\n",
              "          docLink.innerHTML = docLinkHtml;\n",
              "          element.appendChild(docLink);\n",
              "        }\n",
              "      </script>\n",
              "    </div>\n",
              "  </div>\n",
              "  "
            ],
            "text/plain": [
              "        Unnamed: 0  OFFENSE_CATEGORY_ID\n",
              "0           377520                   10\n",
              "1             2939                    0\n",
              "2           311293                    9\n",
              "3            27893                    0\n",
              "4           234313                    3\n",
              "...            ...                  ...\n",
              "323465       48056                    1\n",
              "323466      452227                   13\n",
              "323467       77049                    3\n",
              "323468      198296                    3\n",
              "323469       71530                    3\n",
              "\n",
              "[323470 rows x 2 columns]"
            ]
          },
          "metadata": {},
          "execution_count": 111
        }
      ]
    },
    {
      "cell_type": "code",
      "source": [
        "y1 = pd.read_excel(\"/content/y1.xlsx\")\n",
        "y1"
      ],
      "metadata": {
        "colab": {
          "base_uri": "https://localhost:8080/"
        },
        "id": "nViJjfnG6CkL",
        "outputId": "87a13d4b-69f4-4a59-ecbd-5ac5e2b75c16"
      },
      "execution_count": null,
      "outputs": [
        {
          "output_type": "execute_result",
          "data": {
            "text/html": [
              "\n",
              "  <div id=\"df-9398c105-761e-4ad7-b86e-d7570f863937\">\n",
              "    <div class=\"colab-df-container\">\n",
              "      <div>\n",
              "<style scoped>\n",
              "    .dataframe tbody tr th:only-of-type {\n",
              "        vertical-align: middle;\n",
              "    }\n",
              "\n",
              "    .dataframe tbody tr th {\n",
              "        vertical-align: top;\n",
              "    }\n",
              "\n",
              "    .dataframe thead th {\n",
              "        text-align: right;\n",
              "    }\n",
              "</style>\n",
              "<table border=\"1\" class=\"dataframe\">\n",
              "  <thead>\n",
              "    <tr style=\"text-align: right;\">\n",
              "      <th></th>\n",
              "      <th>Unnamed: 0</th>\n",
              "      <th>OFFENSE_TYPE_ID</th>\n",
              "    </tr>\n",
              "  </thead>\n",
              "  <tbody>\n",
              "    <tr>\n",
              "      <th>0</th>\n",
              "      <td>287614</td>\n",
              "      <td>53</td>\n",
              "    </tr>\n",
              "    <tr>\n",
              "      <th>1</th>\n",
              "      <td>205409</td>\n",
              "      <td>30</td>\n",
              "    </tr>\n",
              "    <tr>\n",
              "      <th>2</th>\n",
              "      <td>158723</td>\n",
              "      <td>27</td>\n",
              "    </tr>\n",
              "    <tr>\n",
              "      <th>3</th>\n",
              "      <td>71880</td>\n",
              "      <td>130</td>\n",
              "    </tr>\n",
              "    <tr>\n",
              "      <th>4</th>\n",
              "      <td>334512</td>\n",
              "      <td>65</td>\n",
              "    </tr>\n",
              "    <tr>\n",
              "      <th>...</th>\n",
              "      <td>...</td>\n",
              "      <td>...</td>\n",
              "    </tr>\n",
              "    <tr>\n",
              "      <th>138626</th>\n",
              "      <td>154243</td>\n",
              "      <td>27</td>\n",
              "    </tr>\n",
              "    <tr>\n",
              "      <th>138627</th>\n",
              "      <td>322587</td>\n",
              "      <td>64</td>\n",
              "    </tr>\n",
              "    <tr>\n",
              "      <th>138628</th>\n",
              "      <td>280268</td>\n",
              "      <td>50</td>\n",
              "    </tr>\n",
              "    <tr>\n",
              "      <th>138629</th>\n",
              "      <td>81358</td>\n",
              "      <td>136</td>\n",
              "    </tr>\n",
              "    <tr>\n",
              "      <th>138630</th>\n",
              "      <td>377730</td>\n",
              "      <td>68</td>\n",
              "    </tr>\n",
              "  </tbody>\n",
              "</table>\n",
              "<p>138631 rows × 2 columns</p>\n",
              "</div>\n",
              "      <button class=\"colab-df-convert\" onclick=\"convertToInteractive('df-9398c105-761e-4ad7-b86e-d7570f863937')\"\n",
              "              title=\"Convert this dataframe to an interactive table.\"\n",
              "              style=\"display:none;\">\n",
              "        \n",
              "  <svg xmlns=\"http://www.w3.org/2000/svg\" height=\"24px\"viewBox=\"0 0 24 24\"\n",
              "       width=\"24px\">\n",
              "    <path d=\"M0 0h24v24H0V0z\" fill=\"none\"/>\n",
              "    <path d=\"M18.56 5.44l.94 2.06.94-2.06 2.06-.94-2.06-.94-.94-2.06-.94 2.06-2.06.94zm-11 1L8.5 8.5l.94-2.06 2.06-.94-2.06-.94L8.5 2.5l-.94 2.06-2.06.94zm10 10l.94 2.06.94-2.06 2.06-.94-2.06-.94-.94-2.06-.94 2.06-2.06.94z\"/><path d=\"M17.41 7.96l-1.37-1.37c-.4-.4-.92-.59-1.43-.59-.52 0-1.04.2-1.43.59L10.3 9.45l-7.72 7.72c-.78.78-.78 2.05 0 2.83L4 21.41c.39.39.9.59 1.41.59.51 0 1.02-.2 1.41-.59l7.78-7.78 2.81-2.81c.8-.78.8-2.07 0-2.86zM5.41 20L4 18.59l7.72-7.72 1.47 1.35L5.41 20z\"/>\n",
              "  </svg>\n",
              "      </button>\n",
              "      \n",
              "  <style>\n",
              "    .colab-df-container {\n",
              "      display:flex;\n",
              "      flex-wrap:wrap;\n",
              "      gap: 12px;\n",
              "    }\n",
              "\n",
              "    .colab-df-convert {\n",
              "      background-color: #E8F0FE;\n",
              "      border: none;\n",
              "      border-radius: 50%;\n",
              "      cursor: pointer;\n",
              "      display: none;\n",
              "      fill: #1967D2;\n",
              "      height: 32px;\n",
              "      padding: 0 0 0 0;\n",
              "      width: 32px;\n",
              "    }\n",
              "\n",
              "    .colab-df-convert:hover {\n",
              "      background-color: #E2EBFA;\n",
              "      box-shadow: 0px 1px 2px rgba(60, 64, 67, 0.3), 0px 1px 3px 1px rgba(60, 64, 67, 0.15);\n",
              "      fill: #174EA6;\n",
              "    }\n",
              "\n",
              "    [theme=dark] .colab-df-convert {\n",
              "      background-color: #3B4455;\n",
              "      fill: #D2E3FC;\n",
              "    }\n",
              "\n",
              "    [theme=dark] .colab-df-convert:hover {\n",
              "      background-color: #434B5C;\n",
              "      box-shadow: 0px 1px 3px 1px rgba(0, 0, 0, 0.15);\n",
              "      filter: drop-shadow(0px 1px 2px rgba(0, 0, 0, 0.3));\n",
              "      fill: #FFFFFF;\n",
              "    }\n",
              "  </style>\n",
              "\n",
              "      <script>\n",
              "        const buttonEl =\n",
              "          document.querySelector('#df-9398c105-761e-4ad7-b86e-d7570f863937 button.colab-df-convert');\n",
              "        buttonEl.style.display =\n",
              "          google.colab.kernel.accessAllowed ? 'block' : 'none';\n",
              "\n",
              "        async function convertToInteractive(key) {\n",
              "          const element = document.querySelector('#df-9398c105-761e-4ad7-b86e-d7570f863937');\n",
              "          const dataTable =\n",
              "            await google.colab.kernel.invokeFunction('convertToInteractive',\n",
              "                                                     [key], {});\n",
              "          if (!dataTable) return;\n",
              "\n",
              "          const docLinkHtml = 'Like what you see? Visit the ' +\n",
              "            '<a target=\"_blank\" href=https://colab.research.google.com/notebooks/data_table.ipynb>data table notebook</a>'\n",
              "            + ' to learn more about interactive tables.';\n",
              "          element.innerHTML = '';\n",
              "          dataTable['output_type'] = 'display_data';\n",
              "          await google.colab.output.renderOutput(dataTable, element);\n",
              "          const docLink = document.createElement('div');\n",
              "          docLink.innerHTML = docLinkHtml;\n",
              "          element.appendChild(docLink);\n",
              "        }\n",
              "      </script>\n",
              "    </div>\n",
              "  </div>\n",
              "  "
            ],
            "text/plain": [
              "        Unnamed: 0  OFFENSE_TYPE_ID\n",
              "0           287614               53\n",
              "1           205409               30\n",
              "2           158723               27\n",
              "3            71880              130\n",
              "4           334512               65\n",
              "...            ...              ...\n",
              "138626      154243               27\n",
              "138627      322587               64\n",
              "138628      280268               50\n",
              "138629       81358              136\n",
              "138630      377730               68\n",
              "\n",
              "[138631 rows x 2 columns]"
            ]
          },
          "metadata": {},
          "execution_count": 112
        }
      ]
    },
    {
      "cell_type": "code",
      "source": [
        "y2 = pd.read_excel(\"/content/y2.xlsx\")\n",
        "y2"
      ],
      "metadata": {
        "colab": {
          "base_uri": "https://localhost:8080/"
        },
        "id": "n0fbGka16EEW",
        "outputId": "eac1c235-197c-4886-fc02-362955bb32d2"
      },
      "execution_count": null,
      "outputs": [
        {
          "output_type": "execute_result",
          "data": {
            "text/html": [
              "\n",
              "  <div id=\"df-c2f1ad05-2fa1-40c2-b53d-10a09b2304ea\">\n",
              "    <div class=\"colab-df-container\">\n",
              "      <div>\n",
              "<style scoped>\n",
              "    .dataframe tbody tr th:only-of-type {\n",
              "        vertical-align: middle;\n",
              "    }\n",
              "\n",
              "    .dataframe tbody tr th {\n",
              "        vertical-align: top;\n",
              "    }\n",
              "\n",
              "    .dataframe thead th {\n",
              "        text-align: right;\n",
              "    }\n",
              "</style>\n",
              "<table border=\"1\" class=\"dataframe\">\n",
              "  <thead>\n",
              "    <tr style=\"text-align: right;\">\n",
              "      <th></th>\n",
              "      <th>Unnamed: 0</th>\n",
              "      <th>OFFENSE_CATEGORY_ID</th>\n",
              "    </tr>\n",
              "  </thead>\n",
              "  <tbody>\n",
              "    <tr>\n",
              "      <th>0</th>\n",
              "      <td>287614</td>\n",
              "      <td>0</td>\n",
              "    </tr>\n",
              "    <tr>\n",
              "      <th>1</th>\n",
              "      <td>205409</td>\n",
              "      <td>3</td>\n",
              "    </tr>\n",
              "    <tr>\n",
              "      <th>2</th>\n",
              "      <td>158723</td>\n",
              "      <td>4</td>\n",
              "    </tr>\n",
              "    <tr>\n",
              "      <th>3</th>\n",
              "      <td>71880</td>\n",
              "      <td>3</td>\n",
              "    </tr>\n",
              "    <tr>\n",
              "      <th>4</th>\n",
              "      <td>334512</td>\n",
              "      <td>11</td>\n",
              "    </tr>\n",
              "    <tr>\n",
              "      <th>...</th>\n",
              "      <td>...</td>\n",
              "      <td>...</td>\n",
              "    </tr>\n",
              "    <tr>\n",
              "      <th>138626</th>\n",
              "      <td>154243</td>\n",
              "      <td>4</td>\n",
              "    </tr>\n",
              "    <tr>\n",
              "      <th>138627</th>\n",
              "      <td>322587</td>\n",
              "      <td>10</td>\n",
              "    </tr>\n",
              "    <tr>\n",
              "      <th>138628</th>\n",
              "      <td>280268</td>\n",
              "      <td>7</td>\n",
              "    </tr>\n",
              "    <tr>\n",
              "      <th>138629</th>\n",
              "      <td>81358</td>\n",
              "      <td>0</td>\n",
              "    </tr>\n",
              "    <tr>\n",
              "      <th>138630</th>\n",
              "      <td>377730</td>\n",
              "      <td>10</td>\n",
              "    </tr>\n",
              "  </tbody>\n",
              "</table>\n",
              "<p>138631 rows × 2 columns</p>\n",
              "</div>\n",
              "      <button class=\"colab-df-convert\" onclick=\"convertToInteractive('df-c2f1ad05-2fa1-40c2-b53d-10a09b2304ea')\"\n",
              "              title=\"Convert this dataframe to an interactive table.\"\n",
              "              style=\"display:none;\">\n",
              "        \n",
              "  <svg xmlns=\"http://www.w3.org/2000/svg\" height=\"24px\"viewBox=\"0 0 24 24\"\n",
              "       width=\"24px\">\n",
              "    <path d=\"M0 0h24v24H0V0z\" fill=\"none\"/>\n",
              "    <path d=\"M18.56 5.44l.94 2.06.94-2.06 2.06-.94-2.06-.94-.94-2.06-.94 2.06-2.06.94zm-11 1L8.5 8.5l.94-2.06 2.06-.94-2.06-.94L8.5 2.5l-.94 2.06-2.06.94zm10 10l.94 2.06.94-2.06 2.06-.94-2.06-.94-.94-2.06-.94 2.06-2.06.94z\"/><path d=\"M17.41 7.96l-1.37-1.37c-.4-.4-.92-.59-1.43-.59-.52 0-1.04.2-1.43.59L10.3 9.45l-7.72 7.72c-.78.78-.78 2.05 0 2.83L4 21.41c.39.39.9.59 1.41.59.51 0 1.02-.2 1.41-.59l7.78-7.78 2.81-2.81c.8-.78.8-2.07 0-2.86zM5.41 20L4 18.59l7.72-7.72 1.47 1.35L5.41 20z\"/>\n",
              "  </svg>\n",
              "      </button>\n",
              "      \n",
              "  <style>\n",
              "    .colab-df-container {\n",
              "      display:flex;\n",
              "      flex-wrap:wrap;\n",
              "      gap: 12px;\n",
              "    }\n",
              "\n",
              "    .colab-df-convert {\n",
              "      background-color: #E8F0FE;\n",
              "      border: none;\n",
              "      border-radius: 50%;\n",
              "      cursor: pointer;\n",
              "      display: none;\n",
              "      fill: #1967D2;\n",
              "      height: 32px;\n",
              "      padding: 0 0 0 0;\n",
              "      width: 32px;\n",
              "    }\n",
              "\n",
              "    .colab-df-convert:hover {\n",
              "      background-color: #E2EBFA;\n",
              "      box-shadow: 0px 1px 2px rgba(60, 64, 67, 0.3), 0px 1px 3px 1px rgba(60, 64, 67, 0.15);\n",
              "      fill: #174EA6;\n",
              "    }\n",
              "\n",
              "    [theme=dark] .colab-df-convert {\n",
              "      background-color: #3B4455;\n",
              "      fill: #D2E3FC;\n",
              "    }\n",
              "\n",
              "    [theme=dark] .colab-df-convert:hover {\n",
              "      background-color: #434B5C;\n",
              "      box-shadow: 0px 1px 3px 1px rgba(0, 0, 0, 0.15);\n",
              "      filter: drop-shadow(0px 1px 2px rgba(0, 0, 0, 0.3));\n",
              "      fill: #FFFFFF;\n",
              "    }\n",
              "  </style>\n",
              "\n",
              "      <script>\n",
              "        const buttonEl =\n",
              "          document.querySelector('#df-c2f1ad05-2fa1-40c2-b53d-10a09b2304ea button.colab-df-convert');\n",
              "        buttonEl.style.display =\n",
              "          google.colab.kernel.accessAllowed ? 'block' : 'none';\n",
              "\n",
              "        async function convertToInteractive(key) {\n",
              "          const element = document.querySelector('#df-c2f1ad05-2fa1-40c2-b53d-10a09b2304ea');\n",
              "          const dataTable =\n",
              "            await google.colab.kernel.invokeFunction('convertToInteractive',\n",
              "                                                     [key], {});\n",
              "          if (!dataTable) return;\n",
              "\n",
              "          const docLinkHtml = 'Like what you see? Visit the ' +\n",
              "            '<a target=\"_blank\" href=https://colab.research.google.com/notebooks/data_table.ipynb>data table notebook</a>'\n",
              "            + ' to learn more about interactive tables.';\n",
              "          element.innerHTML = '';\n",
              "          dataTable['output_type'] = 'display_data';\n",
              "          await google.colab.output.renderOutput(dataTable, element);\n",
              "          const docLink = document.createElement('div');\n",
              "          docLink.innerHTML = docLinkHtml;\n",
              "          element.appendChild(docLink);\n",
              "        }\n",
              "      </script>\n",
              "    </div>\n",
              "  </div>\n",
              "  "
            ],
            "text/plain": [
              "        Unnamed: 0  OFFENSE_CATEGORY_ID\n",
              "0           287614                    0\n",
              "1           205409                    3\n",
              "2           158723                    4\n",
              "3            71880                    3\n",
              "4           334512                   11\n",
              "...            ...                  ...\n",
              "138626      154243                    4\n",
              "138627      322587                   10\n",
              "138628      280268                    7\n",
              "138629       81358                    0\n",
              "138630      377730                   10\n",
              "\n",
              "[138631 rows x 2 columns]"
            ]
          },
          "metadata": {},
          "execution_count": 113
        }
      ]
    },
    {
      "cell_type": "code",
      "source": [
        "x1.drop(x1.columns[x1.columns.str.contains('unnamed',case = False)],axis = 1, inplace = True)\n",
        "x1"
      ],
      "metadata": {
        "colab": {
          "base_uri": "https://localhost:8080/"
        },
        "id": "J-yZv5eq_zgM",
        "outputId": "4c830a7f-be95-4440-d0a9-d9ffcae36540"
      },
      "execution_count": null,
      "outputs": [
        {
          "output_type": "execute_result",
          "data": {
            "text/html": [
              "\n",
              "  <div id=\"df-407c0968-5ab0-4aa3-8bd5-702b3961c822\">\n",
              "    <div class=\"colab-df-container\">\n",
              "      <div>\n",
              "<style scoped>\n",
              "    .dataframe tbody tr th:only-of-type {\n",
              "        vertical-align: middle;\n",
              "    }\n",
              "\n",
              "    .dataframe tbody tr th {\n",
              "        vertical-align: top;\n",
              "    }\n",
              "\n",
              "    .dataframe thead th {\n",
              "        text-align: right;\n",
              "    }\n",
              "</style>\n",
              "<table border=\"1\" class=\"dataframe\">\n",
              "  <thead>\n",
              "    <tr style=\"text-align: right;\">\n",
              "      <th></th>\n",
              "      <th>OFFENSE_TYPE_ID</th>\n",
              "    </tr>\n",
              "  </thead>\n",
              "  <tbody>\n",
              "    <tr>\n",
              "      <th>0</th>\n",
              "      <td>68</td>\n",
              "    </tr>\n",
              "    <tr>\n",
              "      <th>1</th>\n",
              "      <td>0</td>\n",
              "    </tr>\n",
              "    <tr>\n",
              "      <th>2</th>\n",
              "      <td>60</td>\n",
              "    </tr>\n",
              "    <tr>\n",
              "      <th>3</th>\n",
              "      <td>1</td>\n",
              "    </tr>\n",
              "    <tr>\n",
              "      <th>4</th>\n",
              "      <td>33</td>\n",
              "    </tr>\n",
              "    <tr>\n",
              "      <th>...</th>\n",
              "      <td>...</td>\n",
              "    </tr>\n",
              "    <tr>\n",
              "      <th>323465</th>\n",
              "      <td>93</td>\n",
              "    </tr>\n",
              "    <tr>\n",
              "      <th>323466</th>\n",
              "      <td>194</td>\n",
              "    </tr>\n",
              "    <tr>\n",
              "      <th>323467</th>\n",
              "      <td>21</td>\n",
              "    </tr>\n",
              "    <tr>\n",
              "      <th>323468</th>\n",
              "      <td>30</td>\n",
              "    </tr>\n",
              "    <tr>\n",
              "      <th>323469</th>\n",
              "      <td>130</td>\n",
              "    </tr>\n",
              "  </tbody>\n",
              "</table>\n",
              "<p>323470 rows × 1 columns</p>\n",
              "</div>\n",
              "      <button class=\"colab-df-convert\" onclick=\"convertToInteractive('df-407c0968-5ab0-4aa3-8bd5-702b3961c822')\"\n",
              "              title=\"Convert this dataframe to an interactive table.\"\n",
              "              style=\"display:none;\">\n",
              "        \n",
              "  <svg xmlns=\"http://www.w3.org/2000/svg\" height=\"24px\"viewBox=\"0 0 24 24\"\n",
              "       width=\"24px\">\n",
              "    <path d=\"M0 0h24v24H0V0z\" fill=\"none\"/>\n",
              "    <path d=\"M18.56 5.44l.94 2.06.94-2.06 2.06-.94-2.06-.94-.94-2.06-.94 2.06-2.06.94zm-11 1L8.5 8.5l.94-2.06 2.06-.94-2.06-.94L8.5 2.5l-.94 2.06-2.06.94zm10 10l.94 2.06.94-2.06 2.06-.94-2.06-.94-.94-2.06-.94 2.06-2.06.94z\"/><path d=\"M17.41 7.96l-1.37-1.37c-.4-.4-.92-.59-1.43-.59-.52 0-1.04.2-1.43.59L10.3 9.45l-7.72 7.72c-.78.78-.78 2.05 0 2.83L4 21.41c.39.39.9.59 1.41.59.51 0 1.02-.2 1.41-.59l7.78-7.78 2.81-2.81c.8-.78.8-2.07 0-2.86zM5.41 20L4 18.59l7.72-7.72 1.47 1.35L5.41 20z\"/>\n",
              "  </svg>\n",
              "      </button>\n",
              "      \n",
              "  <style>\n",
              "    .colab-df-container {\n",
              "      display:flex;\n",
              "      flex-wrap:wrap;\n",
              "      gap: 12px;\n",
              "    }\n",
              "\n",
              "    .colab-df-convert {\n",
              "      background-color: #E8F0FE;\n",
              "      border: none;\n",
              "      border-radius: 50%;\n",
              "      cursor: pointer;\n",
              "      display: none;\n",
              "      fill: #1967D2;\n",
              "      height: 32px;\n",
              "      padding: 0 0 0 0;\n",
              "      width: 32px;\n",
              "    }\n",
              "\n",
              "    .colab-df-convert:hover {\n",
              "      background-color: #E2EBFA;\n",
              "      box-shadow: 0px 1px 2px rgba(60, 64, 67, 0.3), 0px 1px 3px 1px rgba(60, 64, 67, 0.15);\n",
              "      fill: #174EA6;\n",
              "    }\n",
              "\n",
              "    [theme=dark] .colab-df-convert {\n",
              "      background-color: #3B4455;\n",
              "      fill: #D2E3FC;\n",
              "    }\n",
              "\n",
              "    [theme=dark] .colab-df-convert:hover {\n",
              "      background-color: #434B5C;\n",
              "      box-shadow: 0px 1px 3px 1px rgba(0, 0, 0, 0.15);\n",
              "      filter: drop-shadow(0px 1px 2px rgba(0, 0, 0, 0.3));\n",
              "      fill: #FFFFFF;\n",
              "    }\n",
              "  </style>\n",
              "\n",
              "      <script>\n",
              "        const buttonEl =\n",
              "          document.querySelector('#df-407c0968-5ab0-4aa3-8bd5-702b3961c822 button.colab-df-convert');\n",
              "        buttonEl.style.display =\n",
              "          google.colab.kernel.accessAllowed ? 'block' : 'none';\n",
              "\n",
              "        async function convertToInteractive(key) {\n",
              "          const element = document.querySelector('#df-407c0968-5ab0-4aa3-8bd5-702b3961c822');\n",
              "          const dataTable =\n",
              "            await google.colab.kernel.invokeFunction('convertToInteractive',\n",
              "                                                     [key], {});\n",
              "          if (!dataTable) return;\n",
              "\n",
              "          const docLinkHtml = 'Like what you see? Visit the ' +\n",
              "            '<a target=\"_blank\" href=https://colab.research.google.com/notebooks/data_table.ipynb>data table notebook</a>'\n",
              "            + ' to learn more about interactive tables.';\n",
              "          element.innerHTML = '';\n",
              "          dataTable['output_type'] = 'display_data';\n",
              "          await google.colab.output.renderOutput(dataTable, element);\n",
              "          const docLink = document.createElement('div');\n",
              "          docLink.innerHTML = docLinkHtml;\n",
              "          element.appendChild(docLink);\n",
              "        }\n",
              "      </script>\n",
              "    </div>\n",
              "  </div>\n",
              "  "
            ],
            "text/plain": [
              "        OFFENSE_TYPE_ID\n",
              "0                    68\n",
              "1                     0\n",
              "2                    60\n",
              "3                     1\n",
              "4                    33\n",
              "...                 ...\n",
              "323465               93\n",
              "323466              194\n",
              "323467               21\n",
              "323468               30\n",
              "323469              130\n",
              "\n",
              "[323470 rows x 1 columns]"
            ]
          },
          "metadata": {},
          "execution_count": 114
        }
      ]
    },
    {
      "cell_type": "code",
      "source": [
        "x2.drop(x2.columns[x2.columns.str.contains('unnamed',case = False)],axis = 1, inplace = True)\n",
        "x2"
      ],
      "metadata": {
        "colab": {
          "base_uri": "https://localhost:8080/"
        },
        "id": "LvIT8ycM_7Ew",
        "outputId": "b728129d-8685-4759-f3dd-aab43e8ddc8e"
      },
      "execution_count": null,
      "outputs": [
        {
          "output_type": "execute_result",
          "data": {
            "text/html": [
              "\n",
              "  <div id=\"df-5ea2bd8c-53ff-49e3-a291-1c4e33186723\">\n",
              "    <div class=\"colab-df-container\">\n",
              "      <div>\n",
              "<style scoped>\n",
              "    .dataframe tbody tr th:only-of-type {\n",
              "        vertical-align: middle;\n",
              "    }\n",
              "\n",
              "    .dataframe tbody tr th {\n",
              "        vertical-align: top;\n",
              "    }\n",
              "\n",
              "    .dataframe thead th {\n",
              "        text-align: right;\n",
              "    }\n",
              "</style>\n",
              "<table border=\"1\" class=\"dataframe\">\n",
              "  <thead>\n",
              "    <tr style=\"text-align: right;\">\n",
              "      <th></th>\n",
              "      <th>OFFENSE_CATEGORY_ID</th>\n",
              "    </tr>\n",
              "  </thead>\n",
              "  <tbody>\n",
              "    <tr>\n",
              "      <th>0</th>\n",
              "      <td>10</td>\n",
              "    </tr>\n",
              "    <tr>\n",
              "      <th>1</th>\n",
              "      <td>0</td>\n",
              "    </tr>\n",
              "    <tr>\n",
              "      <th>2</th>\n",
              "      <td>9</td>\n",
              "    </tr>\n",
              "    <tr>\n",
              "      <th>3</th>\n",
              "      <td>0</td>\n",
              "    </tr>\n",
              "    <tr>\n",
              "      <th>4</th>\n",
              "      <td>3</td>\n",
              "    </tr>\n",
              "    <tr>\n",
              "      <th>...</th>\n",
              "      <td>...</td>\n",
              "    </tr>\n",
              "    <tr>\n",
              "      <th>323465</th>\n",
              "      <td>1</td>\n",
              "    </tr>\n",
              "    <tr>\n",
              "      <th>323466</th>\n",
              "      <td>13</td>\n",
              "    </tr>\n",
              "    <tr>\n",
              "      <th>323467</th>\n",
              "      <td>3</td>\n",
              "    </tr>\n",
              "    <tr>\n",
              "      <th>323468</th>\n",
              "      <td>3</td>\n",
              "    </tr>\n",
              "    <tr>\n",
              "      <th>323469</th>\n",
              "      <td>3</td>\n",
              "    </tr>\n",
              "  </tbody>\n",
              "</table>\n",
              "<p>323470 rows × 1 columns</p>\n",
              "</div>\n",
              "      <button class=\"colab-df-convert\" onclick=\"convertToInteractive('df-5ea2bd8c-53ff-49e3-a291-1c4e33186723')\"\n",
              "              title=\"Convert this dataframe to an interactive table.\"\n",
              "              style=\"display:none;\">\n",
              "        \n",
              "  <svg xmlns=\"http://www.w3.org/2000/svg\" height=\"24px\"viewBox=\"0 0 24 24\"\n",
              "       width=\"24px\">\n",
              "    <path d=\"M0 0h24v24H0V0z\" fill=\"none\"/>\n",
              "    <path d=\"M18.56 5.44l.94 2.06.94-2.06 2.06-.94-2.06-.94-.94-2.06-.94 2.06-2.06.94zm-11 1L8.5 8.5l.94-2.06 2.06-.94-2.06-.94L8.5 2.5l-.94 2.06-2.06.94zm10 10l.94 2.06.94-2.06 2.06-.94-2.06-.94-.94-2.06-.94 2.06-2.06.94z\"/><path d=\"M17.41 7.96l-1.37-1.37c-.4-.4-.92-.59-1.43-.59-.52 0-1.04.2-1.43.59L10.3 9.45l-7.72 7.72c-.78.78-.78 2.05 0 2.83L4 21.41c.39.39.9.59 1.41.59.51 0 1.02-.2 1.41-.59l7.78-7.78 2.81-2.81c.8-.78.8-2.07 0-2.86zM5.41 20L4 18.59l7.72-7.72 1.47 1.35L5.41 20z\"/>\n",
              "  </svg>\n",
              "      </button>\n",
              "      \n",
              "  <style>\n",
              "    .colab-df-container {\n",
              "      display:flex;\n",
              "      flex-wrap:wrap;\n",
              "      gap: 12px;\n",
              "    }\n",
              "\n",
              "    .colab-df-convert {\n",
              "      background-color: #E8F0FE;\n",
              "      border: none;\n",
              "      border-radius: 50%;\n",
              "      cursor: pointer;\n",
              "      display: none;\n",
              "      fill: #1967D2;\n",
              "      height: 32px;\n",
              "      padding: 0 0 0 0;\n",
              "      width: 32px;\n",
              "    }\n",
              "\n",
              "    .colab-df-convert:hover {\n",
              "      background-color: #E2EBFA;\n",
              "      box-shadow: 0px 1px 2px rgba(60, 64, 67, 0.3), 0px 1px 3px 1px rgba(60, 64, 67, 0.15);\n",
              "      fill: #174EA6;\n",
              "    }\n",
              "\n",
              "    [theme=dark] .colab-df-convert {\n",
              "      background-color: #3B4455;\n",
              "      fill: #D2E3FC;\n",
              "    }\n",
              "\n",
              "    [theme=dark] .colab-df-convert:hover {\n",
              "      background-color: #434B5C;\n",
              "      box-shadow: 0px 1px 3px 1px rgba(0, 0, 0, 0.15);\n",
              "      filter: drop-shadow(0px 1px 2px rgba(0, 0, 0, 0.3));\n",
              "      fill: #FFFFFF;\n",
              "    }\n",
              "  </style>\n",
              "\n",
              "      <script>\n",
              "        const buttonEl =\n",
              "          document.querySelector('#df-5ea2bd8c-53ff-49e3-a291-1c4e33186723 button.colab-df-convert');\n",
              "        buttonEl.style.display =\n",
              "          google.colab.kernel.accessAllowed ? 'block' : 'none';\n",
              "\n",
              "        async function convertToInteractive(key) {\n",
              "          const element = document.querySelector('#df-5ea2bd8c-53ff-49e3-a291-1c4e33186723');\n",
              "          const dataTable =\n",
              "            await google.colab.kernel.invokeFunction('convertToInteractive',\n",
              "                                                     [key], {});\n",
              "          if (!dataTable) return;\n",
              "\n",
              "          const docLinkHtml = 'Like what you see? Visit the ' +\n",
              "            '<a target=\"_blank\" href=https://colab.research.google.com/notebooks/data_table.ipynb>data table notebook</a>'\n",
              "            + ' to learn more about interactive tables.';\n",
              "          element.innerHTML = '';\n",
              "          dataTable['output_type'] = 'display_data';\n",
              "          await google.colab.output.renderOutput(dataTable, element);\n",
              "          const docLink = document.createElement('div');\n",
              "          docLink.innerHTML = docLinkHtml;\n",
              "          element.appendChild(docLink);\n",
              "        }\n",
              "      </script>\n",
              "    </div>\n",
              "  </div>\n",
              "  "
            ],
            "text/plain": [
              "        OFFENSE_CATEGORY_ID\n",
              "0                        10\n",
              "1                         0\n",
              "2                         9\n",
              "3                         0\n",
              "4                         3\n",
              "...                     ...\n",
              "323465                    1\n",
              "323466                   13\n",
              "323467                    3\n",
              "323468                    3\n",
              "323469                    3\n",
              "\n",
              "[323470 rows x 1 columns]"
            ]
          },
          "metadata": {},
          "execution_count": 115
        }
      ]
    },
    {
      "cell_type": "code",
      "source": [
        "y1.drop(y1.columns[y1.columns.str.contains('unnamed',case = False)],axis = 1, inplace = True)\n",
        "y1"
      ],
      "metadata": {
        "colab": {
          "base_uri": "https://localhost:8080/"
        },
        "id": "37wWoHuP_9Ld",
        "outputId": "4e0eef74-9093-4a7f-8ec6-70c7722af857"
      },
      "execution_count": null,
      "outputs": [
        {
          "output_type": "execute_result",
          "data": {
            "text/html": [
              "\n",
              "  <div id=\"df-41978ba2-b878-4b31-96a6-47e402192178\">\n",
              "    <div class=\"colab-df-container\">\n",
              "      <div>\n",
              "<style scoped>\n",
              "    .dataframe tbody tr th:only-of-type {\n",
              "        vertical-align: middle;\n",
              "    }\n",
              "\n",
              "    .dataframe tbody tr th {\n",
              "        vertical-align: top;\n",
              "    }\n",
              "\n",
              "    .dataframe thead th {\n",
              "        text-align: right;\n",
              "    }\n",
              "</style>\n",
              "<table border=\"1\" class=\"dataframe\">\n",
              "  <thead>\n",
              "    <tr style=\"text-align: right;\">\n",
              "      <th></th>\n",
              "      <th>OFFENSE_TYPE_ID</th>\n",
              "    </tr>\n",
              "  </thead>\n",
              "  <tbody>\n",
              "    <tr>\n",
              "      <th>0</th>\n",
              "      <td>53</td>\n",
              "    </tr>\n",
              "    <tr>\n",
              "      <th>1</th>\n",
              "      <td>30</td>\n",
              "    </tr>\n",
              "    <tr>\n",
              "      <th>2</th>\n",
              "      <td>27</td>\n",
              "    </tr>\n",
              "    <tr>\n",
              "      <th>3</th>\n",
              "      <td>130</td>\n",
              "    </tr>\n",
              "    <tr>\n",
              "      <th>4</th>\n",
              "      <td>65</td>\n",
              "    </tr>\n",
              "    <tr>\n",
              "      <th>...</th>\n",
              "      <td>...</td>\n",
              "    </tr>\n",
              "    <tr>\n",
              "      <th>138626</th>\n",
              "      <td>27</td>\n",
              "    </tr>\n",
              "    <tr>\n",
              "      <th>138627</th>\n",
              "      <td>64</td>\n",
              "    </tr>\n",
              "    <tr>\n",
              "      <th>138628</th>\n",
              "      <td>50</td>\n",
              "    </tr>\n",
              "    <tr>\n",
              "      <th>138629</th>\n",
              "      <td>136</td>\n",
              "    </tr>\n",
              "    <tr>\n",
              "      <th>138630</th>\n",
              "      <td>68</td>\n",
              "    </tr>\n",
              "  </tbody>\n",
              "</table>\n",
              "<p>138631 rows × 1 columns</p>\n",
              "</div>\n",
              "      <button class=\"colab-df-convert\" onclick=\"convertToInteractive('df-41978ba2-b878-4b31-96a6-47e402192178')\"\n",
              "              title=\"Convert this dataframe to an interactive table.\"\n",
              "              style=\"display:none;\">\n",
              "        \n",
              "  <svg xmlns=\"http://www.w3.org/2000/svg\" height=\"24px\"viewBox=\"0 0 24 24\"\n",
              "       width=\"24px\">\n",
              "    <path d=\"M0 0h24v24H0V0z\" fill=\"none\"/>\n",
              "    <path d=\"M18.56 5.44l.94 2.06.94-2.06 2.06-.94-2.06-.94-.94-2.06-.94 2.06-2.06.94zm-11 1L8.5 8.5l.94-2.06 2.06-.94-2.06-.94L8.5 2.5l-.94 2.06-2.06.94zm10 10l.94 2.06.94-2.06 2.06-.94-2.06-.94-.94-2.06-.94 2.06-2.06.94z\"/><path d=\"M17.41 7.96l-1.37-1.37c-.4-.4-.92-.59-1.43-.59-.52 0-1.04.2-1.43.59L10.3 9.45l-7.72 7.72c-.78.78-.78 2.05 0 2.83L4 21.41c.39.39.9.59 1.41.59.51 0 1.02-.2 1.41-.59l7.78-7.78 2.81-2.81c.8-.78.8-2.07 0-2.86zM5.41 20L4 18.59l7.72-7.72 1.47 1.35L5.41 20z\"/>\n",
              "  </svg>\n",
              "      </button>\n",
              "      \n",
              "  <style>\n",
              "    .colab-df-container {\n",
              "      display:flex;\n",
              "      flex-wrap:wrap;\n",
              "      gap: 12px;\n",
              "    }\n",
              "\n",
              "    .colab-df-convert {\n",
              "      background-color: #E8F0FE;\n",
              "      border: none;\n",
              "      border-radius: 50%;\n",
              "      cursor: pointer;\n",
              "      display: none;\n",
              "      fill: #1967D2;\n",
              "      height: 32px;\n",
              "      padding: 0 0 0 0;\n",
              "      width: 32px;\n",
              "    }\n",
              "\n",
              "    .colab-df-convert:hover {\n",
              "      background-color: #E2EBFA;\n",
              "      box-shadow: 0px 1px 2px rgba(60, 64, 67, 0.3), 0px 1px 3px 1px rgba(60, 64, 67, 0.15);\n",
              "      fill: #174EA6;\n",
              "    }\n",
              "\n",
              "    [theme=dark] .colab-df-convert {\n",
              "      background-color: #3B4455;\n",
              "      fill: #D2E3FC;\n",
              "    }\n",
              "\n",
              "    [theme=dark] .colab-df-convert:hover {\n",
              "      background-color: #434B5C;\n",
              "      box-shadow: 0px 1px 3px 1px rgba(0, 0, 0, 0.15);\n",
              "      filter: drop-shadow(0px 1px 2px rgba(0, 0, 0, 0.3));\n",
              "      fill: #FFFFFF;\n",
              "    }\n",
              "  </style>\n",
              "\n",
              "      <script>\n",
              "        const buttonEl =\n",
              "          document.querySelector('#df-41978ba2-b878-4b31-96a6-47e402192178 button.colab-df-convert');\n",
              "        buttonEl.style.display =\n",
              "          google.colab.kernel.accessAllowed ? 'block' : 'none';\n",
              "\n",
              "        async function convertToInteractive(key) {\n",
              "          const element = document.querySelector('#df-41978ba2-b878-4b31-96a6-47e402192178');\n",
              "          const dataTable =\n",
              "            await google.colab.kernel.invokeFunction('convertToInteractive',\n",
              "                                                     [key], {});\n",
              "          if (!dataTable) return;\n",
              "\n",
              "          const docLinkHtml = 'Like what you see? Visit the ' +\n",
              "            '<a target=\"_blank\" href=https://colab.research.google.com/notebooks/data_table.ipynb>data table notebook</a>'\n",
              "            + ' to learn more about interactive tables.';\n",
              "          element.innerHTML = '';\n",
              "          dataTable['output_type'] = 'display_data';\n",
              "          await google.colab.output.renderOutput(dataTable, element);\n",
              "          const docLink = document.createElement('div');\n",
              "          docLink.innerHTML = docLinkHtml;\n",
              "          element.appendChild(docLink);\n",
              "        }\n",
              "      </script>\n",
              "    </div>\n",
              "  </div>\n",
              "  "
            ],
            "text/plain": [
              "        OFFENSE_TYPE_ID\n",
              "0                    53\n",
              "1                    30\n",
              "2                    27\n",
              "3                   130\n",
              "4                    65\n",
              "...                 ...\n",
              "138626               27\n",
              "138627               64\n",
              "138628               50\n",
              "138629              136\n",
              "138630               68\n",
              "\n",
              "[138631 rows x 1 columns]"
            ]
          },
          "metadata": {},
          "execution_count": 116
        }
      ]
    },
    {
      "cell_type": "code",
      "source": [
        "y2.drop(y2.columns[y2.columns.str.contains('unnamed',case = False)],axis = 1, inplace = True)\n",
        "y2"
      ],
      "metadata": {
        "colab": {
          "base_uri": "https://localhost:8080/"
        },
        "id": "xLTxvBeZAEPV",
        "outputId": "72b4bbb2-c9af-4a8d-deb4-62d2e4b4a1d8"
      },
      "execution_count": null,
      "outputs": [
        {
          "output_type": "execute_result",
          "data": {
            "text/html": [
              "\n",
              "  <div id=\"df-37149e13-487b-490c-b13a-0888390d10b2\">\n",
              "    <div class=\"colab-df-container\">\n",
              "      <div>\n",
              "<style scoped>\n",
              "    .dataframe tbody tr th:only-of-type {\n",
              "        vertical-align: middle;\n",
              "    }\n",
              "\n",
              "    .dataframe tbody tr th {\n",
              "        vertical-align: top;\n",
              "    }\n",
              "\n",
              "    .dataframe thead th {\n",
              "        text-align: right;\n",
              "    }\n",
              "</style>\n",
              "<table border=\"1\" class=\"dataframe\">\n",
              "  <thead>\n",
              "    <tr style=\"text-align: right;\">\n",
              "      <th></th>\n",
              "      <th>OFFENSE_CATEGORY_ID</th>\n",
              "    </tr>\n",
              "  </thead>\n",
              "  <tbody>\n",
              "    <tr>\n",
              "      <th>0</th>\n",
              "      <td>0</td>\n",
              "    </tr>\n",
              "    <tr>\n",
              "      <th>1</th>\n",
              "      <td>3</td>\n",
              "    </tr>\n",
              "    <tr>\n",
              "      <th>2</th>\n",
              "      <td>4</td>\n",
              "    </tr>\n",
              "    <tr>\n",
              "      <th>3</th>\n",
              "      <td>3</td>\n",
              "    </tr>\n",
              "    <tr>\n",
              "      <th>4</th>\n",
              "      <td>11</td>\n",
              "    </tr>\n",
              "    <tr>\n",
              "      <th>...</th>\n",
              "      <td>...</td>\n",
              "    </tr>\n",
              "    <tr>\n",
              "      <th>138626</th>\n",
              "      <td>4</td>\n",
              "    </tr>\n",
              "    <tr>\n",
              "      <th>138627</th>\n",
              "      <td>10</td>\n",
              "    </tr>\n",
              "    <tr>\n",
              "      <th>138628</th>\n",
              "      <td>7</td>\n",
              "    </tr>\n",
              "    <tr>\n",
              "      <th>138629</th>\n",
              "      <td>0</td>\n",
              "    </tr>\n",
              "    <tr>\n",
              "      <th>138630</th>\n",
              "      <td>10</td>\n",
              "    </tr>\n",
              "  </tbody>\n",
              "</table>\n",
              "<p>138631 rows × 1 columns</p>\n",
              "</div>\n",
              "      <button class=\"colab-df-convert\" onclick=\"convertToInteractive('df-37149e13-487b-490c-b13a-0888390d10b2')\"\n",
              "              title=\"Convert this dataframe to an interactive table.\"\n",
              "              style=\"display:none;\">\n",
              "        \n",
              "  <svg xmlns=\"http://www.w3.org/2000/svg\" height=\"24px\"viewBox=\"0 0 24 24\"\n",
              "       width=\"24px\">\n",
              "    <path d=\"M0 0h24v24H0V0z\" fill=\"none\"/>\n",
              "    <path d=\"M18.56 5.44l.94 2.06.94-2.06 2.06-.94-2.06-.94-.94-2.06-.94 2.06-2.06.94zm-11 1L8.5 8.5l.94-2.06 2.06-.94-2.06-.94L8.5 2.5l-.94 2.06-2.06.94zm10 10l.94 2.06.94-2.06 2.06-.94-2.06-.94-.94-2.06-.94 2.06-2.06.94z\"/><path d=\"M17.41 7.96l-1.37-1.37c-.4-.4-.92-.59-1.43-.59-.52 0-1.04.2-1.43.59L10.3 9.45l-7.72 7.72c-.78.78-.78 2.05 0 2.83L4 21.41c.39.39.9.59 1.41.59.51 0 1.02-.2 1.41-.59l7.78-7.78 2.81-2.81c.8-.78.8-2.07 0-2.86zM5.41 20L4 18.59l7.72-7.72 1.47 1.35L5.41 20z\"/>\n",
              "  </svg>\n",
              "      </button>\n",
              "      \n",
              "  <style>\n",
              "    .colab-df-container {\n",
              "      display:flex;\n",
              "      flex-wrap:wrap;\n",
              "      gap: 12px;\n",
              "    }\n",
              "\n",
              "    .colab-df-convert {\n",
              "      background-color: #E8F0FE;\n",
              "      border: none;\n",
              "      border-radius: 50%;\n",
              "      cursor: pointer;\n",
              "      display: none;\n",
              "      fill: #1967D2;\n",
              "      height: 32px;\n",
              "      padding: 0 0 0 0;\n",
              "      width: 32px;\n",
              "    }\n",
              "\n",
              "    .colab-df-convert:hover {\n",
              "      background-color: #E2EBFA;\n",
              "      box-shadow: 0px 1px 2px rgba(60, 64, 67, 0.3), 0px 1px 3px 1px rgba(60, 64, 67, 0.15);\n",
              "      fill: #174EA6;\n",
              "    }\n",
              "\n",
              "    [theme=dark] .colab-df-convert {\n",
              "      background-color: #3B4455;\n",
              "      fill: #D2E3FC;\n",
              "    }\n",
              "\n",
              "    [theme=dark] .colab-df-convert:hover {\n",
              "      background-color: #434B5C;\n",
              "      box-shadow: 0px 1px 3px 1px rgba(0, 0, 0, 0.15);\n",
              "      filter: drop-shadow(0px 1px 2px rgba(0, 0, 0, 0.3));\n",
              "      fill: #FFFFFF;\n",
              "    }\n",
              "  </style>\n",
              "\n",
              "      <script>\n",
              "        const buttonEl =\n",
              "          document.querySelector('#df-37149e13-487b-490c-b13a-0888390d10b2 button.colab-df-convert');\n",
              "        buttonEl.style.display =\n",
              "          google.colab.kernel.accessAllowed ? 'block' : 'none';\n",
              "\n",
              "        async function convertToInteractive(key) {\n",
              "          const element = document.querySelector('#df-37149e13-487b-490c-b13a-0888390d10b2');\n",
              "          const dataTable =\n",
              "            await google.colab.kernel.invokeFunction('convertToInteractive',\n",
              "                                                     [key], {});\n",
              "          if (!dataTable) return;\n",
              "\n",
              "          const docLinkHtml = 'Like what you see? Visit the ' +\n",
              "            '<a target=\"_blank\" href=https://colab.research.google.com/notebooks/data_table.ipynb>data table notebook</a>'\n",
              "            + ' to learn more about interactive tables.';\n",
              "          element.innerHTML = '';\n",
              "          dataTable['output_type'] = 'display_data';\n",
              "          await google.colab.output.renderOutput(dataTable, element);\n",
              "          const docLink = document.createElement('div');\n",
              "          docLink.innerHTML = docLinkHtml;\n",
              "          element.appendChild(docLink);\n",
              "        }\n",
              "      </script>\n",
              "    </div>\n",
              "  </div>\n",
              "  "
            ],
            "text/plain": [
              "        OFFENSE_CATEGORY_ID\n",
              "0                         0\n",
              "1                         3\n",
              "2                         4\n",
              "3                         3\n",
              "4                        11\n",
              "...                     ...\n",
              "138626                    4\n",
              "138627                   10\n",
              "138628                    7\n",
              "138629                    0\n",
              "138630                   10\n",
              "\n",
              "[138631 rows x 1 columns]"
            ]
          },
          "metadata": {},
          "execution_count": 117
        }
      ]
    },
    {
      "cell_type": "markdown",
      "metadata": {
        "id": "RQ2G9P6HrUy1"
      },
      "source": [
        "###Random Forest"
      ]
    },
    {
      "cell_type": "code",
      "execution_count": null,
      "metadata": {
        "id": "2LQUJ6Gw-Aa0"
      },
      "outputs": [],
      "source": [
        "rf_model = RandomForestClassifier(n_estimators=70, \n",
        "                                  min_samples_split = 30,\n",
        "                                  bootstrap = True, \n",
        "                                  max_depth = 50, \n",
        "                                  min_samples_leaf = 25)\n",
        "\n",
        "# Model Training\n",
        "rf_model.fit(X=x1,y=x2)\n",
        "\n",
        "# Prediction\n",
        "result = rf_model.predict(y[Features])"
      ]
    },
    {
      "cell_type": "code",
      "execution_count": null,
      "metadata": {
        "colab": {
          "base_uri": "https://localhost:8080/"
        },
        "id": "djN3C_oR-LiL",
        "outputId": "2dbd81db-ca1e-4b60-a99f-32b3384a44eb"
      },
      "outputs": [
        {
          "output_type": "stream",
          "name": "stdout",
          "text": [
            "========== Random Forest Results ==========\n",
            "Accuracy    :  0.9996393303085168\n",
            "Recall      :  0.9996393303085168\n",
            "Precision   :  0.9996406110017177\n",
            "F1 Score    :  0.9996393303085168\n",
            "Confusion Matrix: \n",
            "[[14517     0     0     0     0     0     0     0     0     0     0     0\n",
            "      0     0     0]\n",
            " [    0  6628     0     0     0     0     0     0     0     0     0     0\n",
            "      0     0     0]\n",
            " [    0     0  1223     0     0     0     0     0     0     0     0     0\n",
            "      0     0     0]\n",
            " [    0     0     0 22118     0     0     0     0     0     0     0     0\n",
            "      0    18     0]\n",
            " [    0     0     0     0 31470     0     0     0     0     0     0     0\n",
            "      0     0     0]\n",
            " [    0     0     0     0     0  1802     0     0     0     0     0     0\n",
            "      0     0     0]\n",
            " [    0     0     0    16     0     0  6461     0     0     0     0     0\n",
            "      0     0     0]\n",
            " [    0     0     0     0     0     0     0  4022     0     0     0     0\n",
            "      0     0     0]\n",
            " [    0     0     0     0     0     0     0     0   197     0     0     0\n",
            "      0     0     0]\n",
            " [    0     0     0     0     0     0     0     0     0  7290     0     0\n",
            "      0     0     0]\n",
            " [    0     0     0     0     0     0     0     0     0     0 14677     0\n",
            "     11     0     0]\n",
            " [    0     0     0     0     0     0     0     0     0     0     0 14553\n",
            "      0     0     0]\n",
            " [    0     0     0     0     0     0     0     0     0     0     0     0\n",
            "  11670     0     0]\n",
            " [    0     0     0     1     0     0     0     0     0     0     0     0\n",
            "      0  1844     0]\n",
            " [    0     0     0     4     0     0     0     0     0     0     0     0\n",
            "      0     0   109]]\n"
          ]
        }
      ],
      "source": [
        "ac_sc = accuracy_score(y2, result)\n",
        "rc_sc = recall_score(y2, result, average=\"weighted\")\n",
        "pr_sc = precision_score(y2, result, average=\"weighted\")\n",
        "f1_sc = f1_score(y2, result, average='micro')\n",
        "confusion_m = confusion_matrix(y2, result)\n",
        "\n",
        "print(\"========== Random Forest Results ==========\")\n",
        "print(\"Accuracy    : \", ac_sc)\n",
        "print(\"Recall      : \", rc_sc)\n",
        "print(\"Precision   : \", pr_sc)\n",
        "print(\"F1 Score    : \", f1_sc)\n",
        "print(\"Confusion Matrix: \")\n",
        "print(confusion_m)"
      ]
    },
    {
      "cell_type": "code",
      "execution_count": null,
      "metadata": {
        "colab": {
          "base_uri": "https://localhost:8080/",
          "height": 725
        },
        "id": "2MBGDe2N-NCo",
        "outputId": "3ff32511-9270-403e-8daf-46590e6a9f86"
      },
      "outputs": [
        {
          "output_type": "stream",
          "name": "stdout",
          "text": [
            "================= Classification Report =================\n",
            "\n",
            "                              precision    recall  f1-score   support\n",
            "\n",
            "             public-disorder       1.00      1.00      1.00     14517\n",
            "                drug-alcohol       1.00      1.00      1.00      6628\n",
            "              sexual-assault       1.00      1.00      1.00      1223\n",
            "            all-other-crimes       1.00      1.00      1.00     22136\n",
            "            traffic-accident       1.00      1.00      1.00     31470\n",
            "                     robbery       1.00      1.00      1.00      1802\n",
            "other-crimes-against-persons       1.00      1.00      1.00      6477\n",
            "          aggravated-assault       1.00      1.00      1.00      4022\n",
            "                       arson       1.00      1.00      1.00       197\n",
            "                    burglary       1.00      1.00      1.00      7290\n",
            "                     larceny       1.00      1.00      1.00     14688\n",
            "    theft-from-motor-vehicle       1.00      1.00      1.00     14553\n",
            "                  auto-theft       1.00      1.00      1.00     11670\n",
            "          white-collar-crime       0.99      1.00      0.99      1845\n",
            "                      murder       1.00      0.96      0.98       113\n",
            "\n",
            "                    accuracy                           1.00    138631\n",
            "                   macro avg       1.00      1.00      1.00    138631\n",
            "                weighted avg       1.00      1.00      1.00    138631\n",
            "\n"
          ]
        },
        {
          "output_type": "display_data",
          "data": {
            "image/png": "[encoded data removed]",
            "text/plain": [
              "<Figure size 432x288 with 2 Axes>"
            ]
          },
          "metadata": {
            "needs_background": "light"
          }
        }
      ],
      "source": [
        "target_names = Classes\n",
        "visualizer = ClassificationReport(rf_model, classes=target_names)\n",
        "visualizer.fit(X=x1, y=x2)     \n",
        "visualizer.score(y1, y2)      \n",
        "\n",
        "print('================= Classification Report =================')\n",
        "print('')\n",
        "print(classification_report(y2, result, target_names=target_names))\n",
        "\n",
        "g = visualizer.poof()             "
      ]
    },
    {
      "cell_type": "markdown",
      "metadata": {
        "id": "sSY37K3HJsbu"
      },
      "source": [
        "###Adam 30"
      ]
    },
    {
      "cell_type": "code",
      "execution_count": null,
      "metadata": {
        "id": "8Gbhr_-OJsbv"
      },
      "outputs": [],
      "source": [
        "nn_model = MLPClassifier(solver='adam', \n",
        "                         alpha=1e-5,\n",
        "                         hidden_layer_sizes=(30,), \n",
        "                         random_state=1,\n",
        "                         max_iter=1000                         \n",
        "                        ) \n",
        "\n",
        "# Model Training\n",
        "nn_model.fit(X=x1,\n",
        "             y=x2)\n",
        "\n",
        "# Prediction\n",
        "result = nn_model.predict(y[Features]) "
      ]
    },
    {
      "cell_type": "code",
      "execution_count": null,
      "metadata": {
        "colab": {
          "base_uri": "https://localhost:8080/"
        },
        "id": "BUxzjiseJsbv",
        "outputId": "2f47a6c5-36e4-433e-9019-f7aaa88564a8"
      },
      "outputs": [
        {
          "output_type": "stream",
          "name": "stdout",
          "text": [
            "========== Neural Network Results ==========\n",
            "Accuracy    :  0.9718028435198477\n",
            "Recall      :  0.9718028435198477\n",
            "Precision   :  0.9705447831555838\n",
            "F1 Score    :  0.9718028435198477\n",
            "Confusion Matrix: \n",
            "[[13493     0     0  1024     0     0     0     0     0     0     0     0\n",
            "      0     0     0]\n",
            " [    0  6466     0   112     0     0     0     0     0     0     0     0\n",
            "      0    50     0]\n",
            " [    0   228   866   129     0     0     0     0     0     0     0     0\n",
            "      0     0     0]\n",
            " [    0   463     0 21607     2     0     0     0     0    46     0     0\n",
            "      0    18     0]\n",
            " [    0     0     0     0 31470     0     0     0     0     0     0     0\n",
            "      0     0     0]\n",
            " [    0     0     0     0     0  1802     0     0     0     0     0     0\n",
            "      0     0     0]\n",
            " [    0   256     0   207     0     0  6014     0     0     0     0     0\n",
            "      0     0     0]\n",
            " [    0     0     0     0     0     0    68  3954     0     0     0     0\n",
            "      0     0     0]\n",
            " [  178     0     0    19     0     0     0     0     0     0     0     0\n",
            "      0     0     0]\n",
            " [    0     0     0     0     0     0     0     0     0  7290     0     0\n",
            "      0     0     0]\n",
            " [    0     0     0     0     0     0     0     0     0     0 14344     0\n",
            "      0   344     0]\n",
            " [    0     0     0     0     0     0     0     0     0     0     0 14553\n",
            "      0     0     0]\n",
            " [    0     0     0     0     0     0     0     0     0     0     0     0\n",
            "  11659    11     0]\n",
            " [    0     0     0     1     0     0     0     0     0     0     0     0\n",
            "    640  1204     0]\n",
            " [    0     0     0   113     0     0     0     0     0     0     0     0\n",
            "      0     0     0]]\n"
          ]
        }
      ],
      "source": [
        "ac_sc = accuracy_score(y2, result) \n",
        "rc_sc = recall_score(y2, result, average=\"weighted\")\n",
        "pr_sc = precision_score(y2, result, average=\"weighted\") \n",
        "f1_sc = f1_score(y2, result, average='micro') \n",
        "confusion_m = confusion_matrix(y2, result) \n",
        "\n",
        "print(\"========== Neural Network Results ==========\")\n",
        "print(\"Accuracy    : \", ac_sc)\n",
        "print(\"Recall      : \", rc_sc)\n",
        "print(\"Precision   : \", pr_sc)\n",
        "print(\"F1 Score    : \", f1_sc)\n",
        "print(\"Confusion Matrix: \")\n",
        "print(confusion_m)"
      ]
    },
    {
      "cell_type": "code",
      "execution_count": null,
      "metadata": {
        "colab": {
          "base_uri": "https://localhost:8080/",
          "height": 725
        },
        "id": "-ku0tcAxJsbw",
        "outputId": "642d5dc1-d54e-4c5f-edd4-235cc9f27dce"
      },
      "outputs": [
        {
          "output_type": "stream",
          "name": "stdout",
          "text": [
            "================= Classification Report =================\n",
            "\n",
            "                              precision    recall  f1-score   support\n",
            "\n",
            "             public-disorder       0.99      0.93      0.96     14517\n",
            "                drug-alcohol       0.87      0.98      0.92      6628\n",
            "              sexual-assault       1.00      0.71      0.83      1223\n",
            "            all-other-crimes       0.93      0.98      0.95     22136\n",
            "            traffic-accident       1.00      1.00      1.00     31470\n",
            "                     robbery       1.00      1.00      1.00      1802\n",
            "other-crimes-against-persons       0.99      0.93      0.96      6477\n",
            "          aggravated-assault       1.00      0.98      0.99      4022\n",
            "                       arson       0.00      0.00      0.00       197\n",
            "                    burglary       0.99      1.00      1.00      7290\n",
            "                     larceny       1.00      0.98      0.99     14688\n",
            "    theft-from-motor-vehicle       1.00      1.00      1.00     14553\n",
            "                  auto-theft       0.95      1.00      0.97     11670\n",
            "          white-collar-crime       0.74      0.65      0.69      1845\n",
            "                      murder       0.00      0.00      0.00       113\n",
            "\n",
            "                    accuracy                           0.97    138631\n",
            "                   macro avg       0.83      0.81      0.82    138631\n",
            "                weighted avg       0.97      0.97      0.97    138631\n",
            "\n"
          ]
        },
        {
          "output_type": "display_data",
          "data": {
            "image/png": "[encoded data removed]",
            "text/plain": [
              "<Figure size 432x288 with 2 Axes>"
            ]
          },
          "metadata": {
            "needs_background": "light"
          }
        }
      ],
      "source": [
        "target_names = Classes\n",
        "visualizer = ClassificationReport(nn_model, classes=target_names)\n",
        "visualizer.fit(X=x1, y=x2)     \n",
        "visualizer.score(y1, y2)      \n",
        "\n",
        "print('================= Classification Report =================')\n",
        "print('')\n",
        "print(classification_report(y2, result, target_names=target_names))\n",
        "\n",
        "g = visualizer.poof()       \n"
      ]
    },
    {
      "cell_type": "markdown",
      "metadata": {
        "id": "A93HiVNB849W"
      },
      "source": [
        "###KNN"
      ]
    },
    {
      "cell_type": "code",
      "execution_count": null,
      "metadata": {
        "id": "GU_LMYW6-jgQ"
      },
      "outputs": [],
      "source": [
        "knn_model = KNeighborsClassifier(n_neighbors=15)\n",
        "\n",
        "# Model Training\n",
        "knn_model.fit(X=x1,\n",
        "             y=x2)\n",
        "\n",
        "# Prediction\n",
        "result = knn_model.predict(y[Features]) "
      ]
    },
    {
      "cell_type": "code",
      "execution_count": null,
      "metadata": {
        "colab": {
          "base_uri": "https://localhost:8080/"
        },
        "id": "i0jWore3-mAT",
        "outputId": "9b0e5c2c-2809-4d72-9aa7-2a0e6f0d8049"
      },
      "outputs": [
        {
          "output_type": "stream",
          "name": "stdout",
          "text": [
            "========== K-Nearest Neighbors Results ==========\n",
            "Accuracy    :  0.9999350794555331\n",
            "Recall      :  0.9999350794555331\n",
            "Precision   :  0.9999350883012923\n",
            "F1 Score    :  0.9999350794555331\n",
            "Confusion Matrix: \n",
            "[[14516     0     0     1     0     0     0     0     0     0     0     0\n",
            "      0     0     0]\n",
            " [    0  6624     0     4     0     0     0     0     0     0     0     0\n",
            "      0     0     0]\n",
            " [    0     0  1223     0     0     0     0     0     0     0     0     0\n",
            "      0     0     0]\n",
            " [    3     0     0 22133     0     0     0     0     0     0     0     0\n",
            "      0     0     0]\n",
            " [    0     0     0     0 31470     0     0     0     0     0     0     0\n",
            "      0     0     0]\n",
            " [    0     0     0     0     0  1802     0     0     0     0     0     0\n",
            "      0     0     0]\n",
            " [    0     0     0     0     0     0  6477     0     0     0     0     0\n",
            "      0     0     0]\n",
            " [    0     0     0     0     0     0     0  4022     0     0     0     0\n",
            "      0     0     0]\n",
            " [    0     0     0     0     0     0     0     0   197     0     0     0\n",
            "      0     0     0]\n",
            " [    0     0     0     0     0     0     0     0     0  7290     0     0\n",
            "      0     0     0]\n",
            " [    0     0     0     0     0     0     0     0     0     0 14688     0\n",
            "      0     0     0]\n",
            " [    0     0     0     0     0     0     0     0     0     0     0 14553\n",
            "      0     0     0]\n",
            " [    0     0     0     0     0     0     0     0     0     0     0     0\n",
            "  11670     0     0]\n",
            " [    0     0     0     1     0     0     0     0     0     0     0     0\n",
            "      0  1844     0]\n",
            " [    0     0     0     0     0     0     0     0     0     0     0     0\n",
            "      0     0   113]]\n"
          ]
        }
      ],
      "source": [
        "ac_sc = accuracy_score(y2, result)\n",
        "rc_sc = recall_score(y2, result, average=\"weighted\")\n",
        "pr_sc = precision_score(y2, result, average=\"weighted\")\n",
        "f1_sc = f1_score(y2, result, average='micro')\n",
        "confusion_m = confusion_matrix(y2, result)\n",
        "\n",
        "print(\"========== K-Nearest Neighbors Results ==========\")\n",
        "print(\"Accuracy    : \", ac_sc)\n",
        "print(\"Recall      : \", rc_sc)\n",
        "print(\"Precision   : \", pr_sc)\n",
        "print(\"F1 Score    : \", f1_sc)\n",
        "print(\"Confusion Matrix: \")\n",
        "print(confusion_m)"
      ]
    },
    {
      "cell_type": "code",
      "execution_count": null,
      "metadata": {
        "colab": {
          "base_uri": "https://localhost:8080/",
          "height": 725
        },
        "id": "9GIu_N-Y-oOh",
        "outputId": "e8254c20-292e-456e-a7a5-b7493f05ae88"
      },
      "outputs": [
        {
          "output_type": "stream",
          "name": "stdout",
          "text": [
            "================= Classification Report =================\n",
            "\n",
            "                              precision    recall  f1-score   support\n",
            "\n",
            "             public-disorder       1.00      1.00      1.00     14517\n",
            "                drug-alcohol       1.00      1.00      1.00      6628\n",
            "              sexual-assault       1.00      1.00      1.00      1223\n",
            "            all-other-crimes       1.00      1.00      1.00     22136\n",
            "            traffic-accident       1.00      1.00      1.00     31470\n",
            "                     robbery       1.00      1.00      1.00      1802\n",
            "other-crimes-against-persons       1.00      1.00      1.00      6477\n",
            "          aggravated-assault       1.00      1.00      1.00      4022\n",
            "                       arson       1.00      1.00      1.00       197\n",
            "                    burglary       1.00      1.00      1.00      7290\n",
            "                     larceny       1.00      1.00      1.00     14688\n",
            "    theft-from-motor-vehicle       1.00      1.00      1.00     14553\n",
            "                  auto-theft       1.00      1.00      1.00     11670\n",
            "          white-collar-crime       1.00      1.00      1.00      1845\n",
            "                      murder       1.00      1.00      1.00       113\n",
            "\n",
            "                    accuracy                           1.00    138631\n",
            "                   macro avg       1.00      1.00      1.00    138631\n",
            "                weighted avg       1.00      1.00      1.00    138631\n",
            "\n"
          ]
        },
        {
          "output_type": "display_data",
          "data": {
            "image/png": "[encoded data removed]",
            "text/plain": [
              "<Figure size 432x288 with 2 Axes>"
            ]
          },
          "metadata": {
            "needs_background": "light"
          }
        }
      ],
      "source": [
        "target_names = Classes\n",
        "visualizer = ClassificationReport(knn_model, classes=target_names)\n",
        "visualizer.fit(X=x1, y=x2)     \n",
        "visualizer.score(y1, y2)       \n",
        "\n",
        "print('================= Classification Report =================')\n",
        "print('')\n",
        "print(classification_report(y2, result, target_names=target_names))\n",
        "\n",
        "g = visualizer.poof()        "
      ]
    },
    {
      "cell_type": "markdown",
      "metadata": {
        "id": "VidPc8Gm_NLh"
      },
      "source": [
        "###Naive Bayes GaussianNB"
      ]
    },
    {
      "cell_type": "code",
      "execution_count": null,
      "metadata": {
        "id": "DMZXyhaO_NLu"
      },
      "outputs": [],
      "source": [
        "nb_model = GaussianNB()\n",
        "\n",
        "# Model Training\n",
        "nb_model.fit(X=x1,\n",
        "             y=x2)\n",
        "\n",
        "# Prediction\n",
        "result = nb_model.predict(y[Features]) "
      ]
    },
    {
      "cell_type": "code",
      "execution_count": null,
      "metadata": {
        "colab": {
          "base_uri": "https://localhost:8080/"
        },
        "id": "jgaGDCUl_NLv",
        "outputId": "23e00793-ec3f-426a-b721-e56480f0cb6c"
      },
      "outputs": [
        {
          "output_type": "stream",
          "name": "stdout",
          "text": [
            "========== Naive Bayes Results ==========\n",
            "Accuracy    :  0.6745965909500761\n",
            "Recall      :  0.6745965909500761\n",
            "Precision   :  0.6338540759880268\n",
            "F1 Score    :  0.6745965909500761\n",
            "Confusion Matrix: \n",
            "[[ 4156     0     0  7580  1663     0     0     0     0     0     0     0\n",
            "      0  1118     0]\n",
            " [    0     0     0  5220     0     0     0     0     0     0  1408     0\n",
            "      0     0     0]\n",
            " [    0     0     0  1094     0     0     0     0     0     0     0     0\n",
            "      0   129     0]\n",
            " [    0     0     0 20107     2     0     0     0     0     0    94     0\n",
            "      0  1933     0]\n",
            " [    0     0     0     0 31470     0     0     0     0     0     0     0\n",
            "      0     0     0]\n",
            " [    0     0     0   285     0  1517     0     0     0     0     0     0\n",
            "      0     0     0]\n",
            " [    0     0     0  6286     0     0     0     0     0     0     0     0\n",
            "      0   191     0]\n",
            " [    0     0     0    68     0     0     0  3954     0     0     0     0\n",
            "      0     0     0]\n",
            " [    0     0     0    45     0     0     0     0     0     0   133     0\n",
            "      0    19     0]\n",
            " [    0     0     0     0     0     0     0     0     0     0  7030     0\n",
            "      0   260     0]\n",
            " [    0     0     0     0     0     0     0     0     0     0  5511     0\n",
            "   9049   128     0]\n",
            " [    0     0     0     0     0     0     0     0     0     0     0 14553\n",
            "      0     0     0]\n",
            " [    0     0     0     0     0     0     0     0     0     0     0     0\n",
            "  11659    11     0]\n",
            " [    0     0     0     1     0     0     0     0     0     0     0     0\n",
            "   1251   593     0]\n",
            " [    0     0     0     0     0     0     0     0     0     0     0     0\n",
            "      0   113     0]]\n"
          ]
        }
      ],
      "source": [
        "ac_sc = accuracy_score(y2, result)\n",
        "rc_sc = recall_score(y2, result, average=\"weighted\")\n",
        "pr_sc = precision_score(y2, result, average=\"weighted\")\n",
        "f1_sc = f1_score(y2, result, average='micro')\n",
        "confusion_m = confusion_matrix(y2, result)\n",
        "\n",
        "print(\"========== Naive Bayes Results ==========\")\n",
        "print(\"Accuracy    : \", ac_sc)\n",
        "print(\"Recall      : \", rc_sc)\n",
        "print(\"Precision   : \", pr_sc)\n",
        "print(\"F1 Score    : \", f1_sc)\n",
        "print(\"Confusion Matrix: \")\n",
        "print(confusion_m)"
      ]
    },
    {
      "cell_type": "code",
      "execution_count": null,
      "metadata": {
        "colab": {
          "base_uri": "https://localhost:8080/",
          "height": 725
        },
        "id": "eXN8aJ0l_NLv",
        "outputId": "4a98a5b7-e599-4aaa-9323-8a229517962f"
      },
      "outputs": [
        {
          "output_type": "stream",
          "name": "stdout",
          "text": [
            "================= Classification Report =================\n",
            "\n",
            "                              precision    recall  f1-score   support\n",
            "\n",
            "             public-disorder       1.00      0.29      0.45     14517\n",
            "                drug-alcohol       0.00      0.00      0.00      6628\n",
            "              sexual-assault       0.00      0.00      0.00      1223\n",
            "            all-other-crimes       0.49      0.91      0.64     22136\n",
            "            traffic-accident       0.95      1.00      0.97     31470\n",
            "                     robbery       1.00      0.84      0.91      1802\n",
            "other-crimes-against-persons       0.00      0.00      0.00      6477\n",
            "          aggravated-assault       1.00      0.98      0.99      4022\n",
            "                       arson       0.00      0.00      0.00       197\n",
            "                    burglary       0.00      0.00      0.00      7290\n",
            "                     larceny       0.39      0.38      0.38     14688\n",
            "    theft-from-motor-vehicle       1.00      1.00      1.00     14553\n",
            "                  auto-theft       0.53      1.00      0.69     11670\n",
            "          white-collar-crime       0.13      0.32      0.19      1845\n",
            "                      murder       0.00      0.00      0.00       113\n",
            "\n",
            "                    accuracy                           0.67    138631\n",
            "                   macro avg       0.43      0.45      0.42    138631\n",
            "                weighted avg       0.63      0.67      0.62    138631\n",
            "\n"
          ]
        },
        {
          "output_type": "display_data",
          "data": {
            "image/png": "[encoded data removed]",
            "text/plain": [
              "<Figure size 432x288 with 2 Axes>"
            ]
          },
          "metadata": {
            "needs_background": "light"
          }
        }
      ],
      "source": [
        "target_names = Classes\n",
        "visualizer = ClassificationReport(nb_model, classes=target_names)\n",
        "visualizer.fit(X=x1, y=x2)     \n",
        "visualizer.score(y1, y2)       \n",
        "\n",
        "print('================= Classification Report =================')\n",
        "print('')\n",
        "print(classification_report(y2, result, target_names=target_names))\n",
        "\n",
        "g = visualizer.poof()        "
      ]
    },
    {
      "cell_type": "markdown",
      "metadata": {
        "id": "QIY_lQzH87xp"
      },
      "source": [
        "###Voting"
      ]
    },
    {
      "cell_type": "code",
      "execution_count": null,
      "metadata": {
        "id": "jsXamYoV-qYu"
      },
      "outputs": [],
      "source": [
        "eclf1 = VotingClassifier(estimators=[('knn', knn_model), ('rf', rf_model), ('nn', nn_model),('nb', nb_model)], \n",
        "                         weights=[1,1,1,1],\n",
        "                         flatten_transform=True) #นำทั้ง 4 Model มาทำนาย\n",
        "eclf1 = eclf1.fit(X=x1, y=x2)  \n",
        "\n",
        "# Prediction\n",
        "result = eclf1.predict(y[Features])"
      ]
    },
    {
      "cell_type": "code",
      "execution_count": null,
      "metadata": {
        "colab": {
          "base_uri": "https://localhost:8080/"
        },
        "id": "u7g3HKij-sLJ",
        "outputId": "feaf11ab-bb78-401f-c353-d65eefbb660a"
      },
      "outputs": [
        {
          "output_type": "stream",
          "name": "stdout",
          "text": [
            "============= Ensemble Voting Results =============\n",
            "Accuracy    :  0.9950948921958293\n",
            "Recall      :  0.9950948921958293\n",
            "Precision   :  0.9952687420307537\n",
            "F1 Score    :  0.9950948921958293\n",
            "Confusion Matrix: \n",
            "[[14516     0     0     1     0     0     0     0     0     0     0     0\n",
            "      0     0     0]\n",
            " [    0  6628     0     0     0     0     0     0     0     0     0     0\n",
            "      0     0     0]\n",
            " [    0     0  1223     0     0     0     0     0     0     0     0     0\n",
            "      0     0     0]\n",
            " [    0     0     0 22118     0     0     0     0     0     0     0     0\n",
            "      0    18     0]\n",
            " [    0     0     0     0 31470     0     0     0     0     0     0     0\n",
            "      0     0     0]\n",
            " [    0     0     0     0     0  1802     0     0     0     0     0     0\n",
            "      0     0     0]\n",
            " [    0     0     0    16     0     0  6461     0     0     0     0     0\n",
            "      0     0     0]\n",
            " [    0     0     0     0     0     0     0  4022     0     0     0     0\n",
            "      0     0     0]\n",
            " [    0     0     0     0     0     0     0     0   197     0     0     0\n",
            "      0     0     0]\n",
            " [    0     0     0     0     0     0     0     0     0  7290     0     0\n",
            "      0     0     0]\n",
            " [    0     0     0     0     0     0     0     0     0     0 14688     0\n",
            "      0     0     0]\n",
            " [    0     0     0     0     0     0     0     0     0     0     0 14553\n",
            "      0     0     0]\n",
            " [    0     0     0     0     0     0     0     0     0     0     0     0\n",
            "  11670     0     0]\n",
            " [    0     0     0     1     0     0     0     0     0     0     0     0\n",
            "    640  1204     0]\n",
            " [    0     0     0     4     0     0     0     0     0     0     0     0\n",
            "      0     0   109]]\n"
          ]
        }
      ],
      "source": [
        "ac_sc = accuracy_score(y2, result)\n",
        "rc_sc = recall_score(y2, result, average=\"weighted\")\n",
        "pr_sc = precision_score(y2, result, average=\"weighted\")\n",
        "f1_sc = f1_score(y2, result, average='micro')\n",
        "confusion_m = confusion_matrix(y2, result)\n",
        "\n",
        "print(\"============= Ensemble Voting Results =============\")\n",
        "print(\"Accuracy    : \", ac_sc)\n",
        "print(\"Recall      : \", rc_sc)\n",
        "print(\"Precision   : \", pr_sc)\n",
        "print(\"F1 Score    : \", f1_sc)\n",
        "print(\"Confusion Matrix: \")\n",
        "print(confusion_m)"
      ]
    },
    {
      "cell_type": "code",
      "execution_count": null,
      "metadata": {
        "colab": {
          "base_uri": "https://localhost:8080/",
          "height": 725
        },
        "id": "CqM5tXk2-ueU",
        "outputId": "37131651-3d90-4c98-ca81-a22b163f3d99"
      },
      "outputs": [
        {
          "output_type": "stream",
          "name": "stdout",
          "text": [
            "================= Classification Report =================\n",
            "\n",
            "                              precision    recall  f1-score   support\n",
            "\n",
            "             public-disorder       1.00      1.00      1.00     14517\n",
            "                drug-alcohol       1.00      1.00      1.00      6628\n",
            "              sexual-assault       1.00      1.00      1.00      1223\n",
            "            all-other-crimes       1.00      1.00      1.00     22136\n",
            "            traffic-accident       1.00      1.00      1.00     31470\n",
            "                     robbery       1.00      1.00      1.00      1802\n",
            "other-crimes-against-persons       1.00      1.00      1.00      6477\n",
            "          aggravated-assault       1.00      1.00      1.00      4022\n",
            "                       arson       1.00      1.00      1.00       197\n",
            "                    burglary       1.00      1.00      1.00      7290\n",
            "                     larceny       1.00      1.00      1.00     14688\n",
            "    theft-from-motor-vehicle       1.00      1.00      1.00     14553\n",
            "                  auto-theft       0.95      1.00      0.97     11670\n",
            "          white-collar-crime       0.99      0.65      0.79      1845\n",
            "                      murder       1.00      0.96      0.98       113\n",
            "\n",
            "                    accuracy                           1.00    138631\n",
            "                   macro avg       1.00      0.97      0.98    138631\n",
            "                weighted avg       1.00      1.00      0.99    138631\n",
            "\n"
          ]
        },
        {
          "output_type": "display_data",
          "data": {
            "image/png": "[encoded data removed]",
            "text/plain": [
              "<Figure size 432x288 with 2 Axes>"
            ]
          },
          "metadata": {
            "needs_background": "light"
          }
        }
      ],
      "source": [
        "target_names = Classes\n",
        "visualizer = ClassificationReport(eclf1, classes=target_names)\n",
        "visualizer.fit(X=x1, y=x2)    \n",
        "visualizer.score(y1, y2)     \n",
        "\n",
        "print('================= Classification Report =================')\n",
        "print('')\n",
        "print(classification_report(y2, result, target_names=target_names))\n",
        "\n",
        "g = visualizer.poof()          "
      ]
    },
    {
      "cell_type": "markdown",
      "metadata": {
        "id": "IgHcWCWRxwlw"
      },
      "source": [
        "###sgd 30"
      ]
    },
    {
      "cell_type": "code",
      "execution_count": null,
      "metadata": {
        "id": "-Vc4GsVzxwlw"
      },
      "outputs": [],
      "source": [
        "nn_model = MLPClassifier(solver='sgd', \n",
        "                         alpha=1e-5,\n",
        "                         hidden_layer_sizes=(30,), \n",
        "                         random_state=1,\n",
        "                         max_iter=1000                         \n",
        "                        ) \n",
        "\n",
        "# Model Training\n",
        "nn_model.fit(X=x1,\n",
        "             y=x2)\n",
        "\n",
        "# Prediction\n",
        "result = nn_model.predict(y[Features]) "
      ]
    },
    {
      "cell_type": "code",
      "execution_count": null,
      "metadata": {
        "colab": {
          "base_uri": "https://localhost:8080/"
        },
        "id": "o108aeguxwlx",
        "outputId": "9acac611-29d5-4464-ecaa-c8d23e2f23c4"
      },
      "outputs": [
        {
          "output_type": "stream",
          "name": "stdout",
          "text": [
            "========== Neural Network Results ==========\n",
            "Accuracy    :  0.7258333273221718\n",
            "Recall      :  0.7258333273221718\n",
            "Precision   :  0.6843129262580211\n",
            "F1 Score    :  0.7258333273221718\n",
            "Confusion Matrix: \n",
            "[[11786   241     0  1118     0     0  1372     0     0     0     0     0\n",
            "      0     0     0]\n",
            " [    0  3425     0   112     0     0     0     0     0     0     0     0\n",
            "   3091     0     0]\n",
            " [    0   228     0   995     0     0     0     0     0     0     0     0\n",
            "      0     0     0]\n",
            " [  226   499     0 21315     2     0     0     0     0    46     0     0\n",
            "     48     0     0]\n",
            " [    0     0     0     0 31470     0     0     0     0     0     0     0\n",
            "      0     0     0]\n",
            " [    0     0     0     0     0  1448   354     0     0     0     0     0\n",
            "      0     0     0]\n",
            " [    0   272     0   191     0     0  6014     0     0     0     0     0\n",
            "      0     0     0]\n",
            " [    0     0     0     0     0     0  1198  2824     0     0     0     0\n",
            "      0     0     0]\n",
            " [    0     0     0    19     0     0   129     0     0    49     0     0\n",
            "      0     0     0]\n",
            " [    0     0     0   260     0     0     0     0     0  7030     0     0\n",
            "      0     0     0]\n",
            " [    0     0     0   128     0     0     0     0     0     0  3652     0\n",
            "  10908     0     0]\n",
            " [    0     0     0     0     0     0     0     0     0     0 14553     0\n",
            "      0     0     0]\n",
            " [    0     0     0    11     0     0     0     0     0     0     0     0\n",
            "  11659     0     0]\n",
            " [    0     1     0   593     0     0     0     0     0     0     0     0\n",
            "   1251     0     0]\n",
            " [    0     0     0   113     0     0     0     0     0     0     0     0\n",
            "      0     0     0]]\n"
          ]
        }
      ],
      "source": [
        "ac_sc = accuracy_score(y2, result) \n",
        "rc_sc = recall_score(y2, result, average=\"weighted\") \n",
        "pr_sc = precision_score(y2, result, average=\"weighted\") \n",
        "f1_sc = f1_score(y2, result, average='micro') \n",
        "confusion_m = confusion_matrix(y2, result)\n",
        "\n",
        "print(\"========== Neural Network Results ==========\")\n",
        "print(\"Accuracy    : \", ac_sc)\n",
        "print(\"Recall      : \", rc_sc)\n",
        "print(\"Precision   : \", pr_sc)\n",
        "print(\"F1 Score    : \", f1_sc)\n",
        "print(\"Confusion Matrix: \")\n",
        "print(confusion_m)"
      ]
    },
    {
      "cell_type": "code",
      "execution_count": null,
      "metadata": {
        "colab": {
          "base_uri": "https://localhost:8080/"
        },
        "id": "ih5m7p0Axwlx",
        "outputId": "5c285383-a3a1-49cf-b4e7-0d015e8f2bbc"
      },
      "outputs": [
        {
          "output_type": "stream",
          "name": "stdout",
          "text": [
            "================= Classification Report =================\n",
            "\n",
            "                              precision    recall  f1-score   support\n",
            "\n",
            "             public-disorder       0.98      0.81      0.89     14517\n",
            "                drug-alcohol       0.73      0.52      0.61      6628\n",
            "              sexual-assault       0.00      0.00      0.00      1223\n",
            "            all-other-crimes       0.86      0.96      0.91     22136\n",
            "            traffic-accident       1.00      1.00      1.00     31470\n",
            "                     robbery       1.00      0.80      0.89      1802\n",
            "other-crimes-against-persons       0.66      0.93      0.77      6477\n",
            "          aggravated-assault       1.00      0.70      0.83      4022\n",
            "                       arson       0.00      0.00      0.00       197\n",
            "                    burglary       0.99      0.96      0.98      7290\n",
            "                     larceny       0.20      0.25      0.22     14688\n",
            "    theft-from-motor-vehicle       0.00      0.00      0.00     14553\n",
            "                  auto-theft       0.43      1.00      0.60     11670\n",
            "          white-collar-crime       0.00      0.00      0.00      1845\n",
            "                      murder       0.00      0.00      0.00       113\n",
            "\n",
            "                    accuracy                           0.73    138631\n",
            "                   macro avg       0.52      0.53      0.51    138631\n",
            "                weighted avg       0.68      0.73      0.69    138631\n",
            "\n"
          ]
        },
        {
          "output_type": "display_data",
          "data": {
            "image/png": "[encoded data removed]",
            "text/plain": [
              "<Figure size 432x288 with 2 Axes>"
            ]
          },
          "metadata": {
            "needs_background": "light"
          }
        }
      ],
      "source": [
        "target_names = Classes\n",
        "visualizer = ClassificationReport(nn_model, classes=target_names)\n",
        "visualizer.fit(X=x1, y=x2)     \n",
        "visualizer.score(y1, y2)      \n",
        "\n",
        "print('================= Classification Report =================')\n",
        "print('')\n",
        "print(classification_report(y2, result, target_names=target_names))\n",
        "\n",
        "g = visualizer.poof()       \n"
      ]
    },
    {
      "cell_type": "code",
      "execution_count": null,
      "metadata": {
        "id": "ZrmXrS2hxwlx"
      },
      "outputs": [],
      "source": []
    },
    {
      "cell_type": "markdown",
      "metadata": {
        "id": "jeEwxTRPxoeJ"
      },
      "source": [
        "###lbfgs 30"
      ]
    },
    {
      "cell_type": "code",
      "execution_count": null,
      "metadata": {
        "id": "UNQ291pfxoeW"
      },
      "outputs": [],
      "source": [
        "nn_model = MLPClassifier(solver='lbfgs', \n",
        "                         alpha=1e-5,\n",
        "                         hidden_layer_sizes=(30,), \n",
        "                         random_state=1,\n",
        "                         max_iter=1000                         \n",
        "                        ) \n",
        "\n",
        "# Model Training\n",
        "nn_model.fit(X=x1,\n",
        "             y=x2)\n",
        "\n",
        "# Prediction\n",
        "result = nn_model.predict(y[Features]) "
      ]
    },
    {
      "cell_type": "code",
      "execution_count": null,
      "metadata": {
        "colab": {
          "base_uri": "https://localhost:8080/"
        },
        "id": "qHEdXxWixoeW",
        "outputId": "fa55ac62-214e-4008-c24b-ece2f47eb24b"
      },
      "outputs": [
        {
          "output_type": "stream",
          "name": "stdout",
          "text": [
            "========== Neural Network Results ==========\n",
            "Accuracy    :  0.4976736804899337\n",
            "Recall      :  0.4976736804899337\n",
            "Precision   :  0.41418895933343447\n",
            "F1 Score    :  0.4976736804899337\n",
            "Confusion Matrix: \n",
            "[[10123     0     0  1372  1663     0     0     0     0     0   241     0\n",
            "   1118     0     0]\n",
            " [    0  2354     0  1064     0     0     0     0     0     0  3210     0\n",
            "      0     0     0]\n",
            " [    0   228     0   866     0     0     0     0     0     0     0     0\n",
            "    129     0     0]\n",
            " [    0     0     0 10475  8745     0     0     0     0     0   575    46\n",
            "   2295     0     0]\n",
            " [    0     0     0     0 31470     0     0     0     0     0     0     0\n",
            "      0     0     0]\n",
            " [    0     0     0  1802     0     0     0     0     0     0     0     0\n",
            "      0     0     0]\n",
            " [    0     0     0  6014     0     0     0     0     0     0   272     0\n",
            "    191     0     0]\n",
            " [    0     0     0  4022     0     0     0     0     0     0     0     0\n",
            "      0     0     0]\n",
            " [    0     0     0    45     0     0     0     0     0     0     0   133\n",
            "     19     0     0]\n",
            " [    0     0     0     0     0     0     0     0     0     0  5233  1797\n",
            "    260     0     0]\n",
            " [    0     0     0     0     0     0     0     0     0     0 14560     0\n",
            "    128     0     0]\n",
            " [    0     0     0     0     0     0     0     0     0     0 14553     0\n",
            "      0     0     0]\n",
            " [    0     0     0     0     0     0     0     0     0     0 11659     0\n",
            "     11     0     0]\n",
            " [    0     0     0     0     0     0     0     0     0     0  1252     0\n",
            "    593     0     0]\n",
            " [    0     0     0     0     0     0     0     0     0     0     0     0\n",
            "    113     0     0]]\n"
          ]
        }
      ],
      "source": [
        "ac_sc = accuracy_score(y2, result) \n",
        "rc_sc = recall_score(y2, result, average=\"weighted\") \n",
        "pr_sc = precision_score(y2, result, average=\"weighted\") \n",
        "f1_sc = f1_score(y2, result, average='micro') \n",
        "confusion_m = confusion_matrix(y2, result) \n",
        "\n",
        "print(\"========== Neural Network Results ==========\")\n",
        "print(\"Accuracy    : \", ac_sc)\n",
        "print(\"Recall      : \", rc_sc)\n",
        "print(\"Precision   : \", pr_sc)\n",
        "print(\"F1 Score    : \", f1_sc)\n",
        "print(\"Confusion Matrix: \")\n",
        "print(confusion_m)"
      ]
    },
    {
      "cell_type": "code",
      "execution_count": null,
      "metadata": {
        "colab": {
          "base_uri": "https://localhost:8080/"
        },
        "id": "KRMsVhosxoeW",
        "outputId": "bab38f1e-3558-4065-c945-dff44e1b5af1"
      },
      "outputs": [
        {
          "output_type": "stream",
          "name": "stdout",
          "text": [
            "================= Classification Report =================\n",
            "\n",
            "                              precision    recall  f1-score   support\n",
            "\n",
            "             public-disorder       1.00      0.70      0.82     14517\n",
            "                drug-alcohol       0.91      0.36      0.51      6628\n",
            "              sexual-assault       0.00      0.00      0.00      1223\n",
            "            all-other-crimes       0.41      0.47      0.44     22136\n",
            "            traffic-accident       0.75      1.00      0.86     31470\n",
            "                     robbery       0.00      0.00      0.00      1802\n",
            "other-crimes-against-persons       0.00      0.00      0.00      6477\n",
            "          aggravated-assault       0.00      0.00      0.00      4022\n",
            "                       arson       0.00      0.00      0.00       197\n",
            "                    burglary       0.00      0.00      0.00      7290\n",
            "                     larceny       0.28      0.99      0.44     14688\n",
            "    theft-from-motor-vehicle       0.00      0.00      0.00     14553\n",
            "                  auto-theft       0.00      0.00      0.00     11670\n",
            "          white-collar-crime       0.00      0.00      0.00      1845\n",
            "                      murder       0.00      0.00      0.00       113\n",
            "\n",
            "                    accuracy                           0.50    138631\n",
            "                   macro avg       0.22      0.23      0.20    138631\n",
            "                weighted avg       0.41      0.50      0.42    138631\n",
            "\n"
          ]
        },
        {
          "output_type": "display_data",
          "data": {
            "image/png": "[encoded data removed]",
            "text/plain": [
              "<Figure size 432x288 with 2 Axes>"
            ]
          },
          "metadata": {
            "needs_background": "light"
          }
        }
      ],
      "source": [
        "target_names = Classes\n",
        "visualizer = ClassificationReport(nn_model, classes=target_names)\n",
        "visualizer.fit(X=x1, y=x2)     \n",
        "visualizer.score(y1, y2)      \n",
        "\n",
        "print('================= Classification Report =================')\n",
        "print('')\n",
        "print(classification_report(y2, result, target_names=target_names))\n",
        "\n",
        "g = visualizer.poof()       \n"
      ]
    },
    {
      "cell_type": "code",
      "execution_count": null,
      "metadata": {
        "id": "4RfIrtzuxoeW"
      },
      "outputs": [],
      "source": []
    },
    {
      "cell_type": "markdown",
      "source": [
        "###การแบ่งงาน"
      ],
      "metadata": {
        "id": "c9LWYuz0rei_"
      }
    },
    {
      "cell_type": "code",
      "source": [
        "https://docs.google.com/document/d/1meY2c-vgtbaDejDEFnX4kvvHeVMgkOg53G3vgfrR6r8/edit?usp=sharing"
      ],
      "metadata": {
        "id": "byDbYCB3rh9-"
      },
      "execution_count": null,
      "outputs": []
    }
  ],
  "metadata": {
    "colab": {
      "collapsed_sections": [
        "JxP6PMEhoWT4",
        "99vXeIy7dXar",
        "F_IA_0Zyf3gu",
        "RQ2G9P6HrUy1",
        "sSY37K3HJsbu",
        "A93HiVNB849W",
        "QIY_lQzH87xp",
        "IgHcWCWRxwlw",
        "jeEwxTRPxoeJ",
        "c9LWYuz0rei_"
      ],
      "provenance": [],
      "include_colab_link": true
    },
    "kernelspec": {
      "display_name": "Python 3",
      "name": "python3"
    },
    "language_info": {
      "name": "python"
    }
  },
  "nbformat": 4,
  "nbformat_minor": 0
}